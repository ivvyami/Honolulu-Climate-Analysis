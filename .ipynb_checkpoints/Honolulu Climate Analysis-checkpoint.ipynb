{
 "cells": [
  {
   "cell_type": "code",
   "execution_count": 56,
   "metadata": {},
   "outputs": [],
   "source": [
    " %matplotlib inline\n",
    "from matplotlib import style\n",
    "style.use('fivethirtyeight')\n",
    "import matplotlib.pyplot as plt\n",
    "import matplotlib.patches as mpatches"
   ]
  },
  {
   "cell_type": "markdown",
   "metadata": {},
   "source": [
    "## Import Dependencies"
   ]
  },
  {
   "cell_type": "code",
   "execution_count": 2,
   "metadata": {},
   "outputs": [],
   "source": [
    "# Pandas\n",
    "import pandas as pd\n",
    "# Numpy\n",
    "import numpy as np\n",
    "# Datetime\n",
    "import datetime as dt\n",
    "\n",
    "# SQL Alchemy\n",
    "import sqlalchemy\n",
    "from sqlalchemy.ext.automap import automap_base\n",
    "from sqlalchemy.orm import Session\n",
    "from sqlalchemy import create_engine, inspect, func"
   ]
  },
  {
   "cell_type": "code",
   "execution_count": 3,
   "metadata": {},
   "outputs": [],
   "source": [
    "#create enginge for the 'hawaii.sqlite' database\n",
    "engine = create_engine(\"sqlite:///Resources/hawaii.sqlite\", echo = False)"
   ]
  },
  {
   "cell_type": "markdown",
   "metadata": {},
   "source": [
    "## These two things give me the same thing"
   ]
  },
  {
   "cell_type": "code",
   "execution_count": 4,
   "metadata": {},
   "outputs": [
    {
     "data": {
      "text/plain": [
       "[{'name': 'id',\n",
       "  'type': INTEGER(),\n",
       "  'nullable': False,\n",
       "  'default': None,\n",
       "  'autoincrement': 'auto',\n",
       "  'primary_key': 1},\n",
       " {'name': 'station',\n",
       "  'type': TEXT(),\n",
       "  'nullable': True,\n",
       "  'default': None,\n",
       "  'autoincrement': 'auto',\n",
       "  'primary_key': 0},\n",
       " {'name': 'date',\n",
       "  'type': TEXT(),\n",
       "  'nullable': True,\n",
       "  'default': None,\n",
       "  'autoincrement': 'auto',\n",
       "  'primary_key': 0},\n",
       " {'name': 'prcp',\n",
       "  'type': FLOAT(),\n",
       "  'nullable': True,\n",
       "  'default': None,\n",
       "  'autoincrement': 'auto',\n",
       "  'primary_key': 0},\n",
       " {'name': 'tobs',\n",
       "  'type': FLOAT(),\n",
       "  'nullable': True,\n",
       "  'default': None,\n",
       "  'autoincrement': 'auto',\n",
       "  'primary_key': 0}]"
      ]
     },
     "execution_count": 4,
     "metadata": {},
     "output_type": "execute_result"
    }
   ],
   "source": [
    "#Use inspector to explore the database and print the table names \n",
    "inspector = inspect(engine)\n",
    "inspector.get_table_names()\n",
    "inspector.get_columns('measurement')"
   ]
  },
  {
   "cell_type": "code",
   "execution_count": 5,
   "metadata": {},
   "outputs": [],
   "source": [
    " # reflect an existing database into a new model\n",
    "Base = automap_base()\n",
    "# reflect the tables\n",
    "Base.prepare(engine, reflect=True)"
   ]
  },
  {
   "cell_type": "code",
   "execution_count": 6,
   "metadata": {},
   "outputs": [
    {
     "data": {
      "text/plain": [
       "['measurement', 'station']"
      ]
     },
     "execution_count": 6,
     "metadata": {},
     "output_type": "execute_result"
    }
   ],
   "source": [
    "Base.classes.keys()"
   ]
  },
  {
   "cell_type": "markdown",
   "metadata": {},
   "source": [
    "## Reflect Tables into SQLAlchemy ORM"
   ]
  },
  {
   "cell_type": "code",
   "execution_count": 7,
   "metadata": {},
   "outputs": [],
   "source": [
    "# Save references to each table\n",
    "Measurement = Base.classes.measurement\n",
    "Station = Base.classes.station"
   ]
  },
  {
   "cell_type": "code",
   "execution_count": 8,
   "metadata": {},
   "outputs": [],
   "source": [
    "# Create our session (link) from Python to the DB\n",
    "session = Session(engine)"
   ]
  },
  {
   "cell_type": "markdown",
   "metadata": {},
   "source": [
    "## Query percipitation data for the last 12 months"
   ]
  },
  {
   "cell_type": "code",
   "execution_count": 9,
   "metadata": {},
   "outputs": [
    {
     "name": "stdout",
     "output_type": "stream",
     "text": [
      "[('2016-08-23', 0.45166666666666666), ('2016-08-24', 1.5549999999999997), ('2016-08-25', 0.07714285714285715), ('2016-08-26', 0.016666666666666666), ('2016-08-27', 0.06399999999999999), ('2016-08-28', 0.5166666666666666), ('2016-08-29', 0.24333333333333332), ('2016-08-30', 0.011666666666666667), ('2016-08-31', 0.6359999999999999), ('2016-09-01', 0.006), ('2016-09-02', 0.05), ('2016-09-03', 0.254), ('2016-09-04', 0.276), ('2016-09-05', 0.08499999999999999), ('2016-09-06', 0.246), ('2016-09-07', 0.3333333333333333), ('2016-09-08', 0.07666666666666667), ('2016-09-09', 0.17833333333333332), ('2016-09-10', 0.27999999999999997), ('2016-09-11', 0.25), ('2016-09-12', 0.308), ('2016-09-13', 0.45166666666666666), ('2016-09-14', 2.3800000000000003), ('2016-09-15', 0.8266666666666667), ('2016-09-16', 0.11714285714285715), ('2016-09-17', 0.13599999999999998), ('2016-09-18', 0.10600000000000001), ('2016-09-19', 0.064), ('2016-09-20', 0.14714285714285716), ('2016-09-21', 0.19499999999999998), ('2016-09-22', 0.2057142857142857), ('2016-09-23', 0.22428571428571428), ('2016-09-24', 0.04666666666666667), ('2016-09-25', 0.015), ('2016-09-26', 0.2783333333333333), ('2016-09-27', 0.22666666666666666), ('2016-09-28', 0.018571428571428572), ('2016-09-29', 0.42714285714285716), ('2016-09-30', 0.19166666666666665), ('2016-10-01', 0.2416666666666667), ('2016-10-02', 0.12), ('2016-10-03', 0.115), ('2016-10-04', 0.5816666666666667), ('2016-10-05', 0.1366666666666667), ('2016-10-06', 0.022857142857142857), ('2016-10-07', 0.0016666666666666668), ('2016-10-08', 0.008), ('2016-10-09', 0.0), ('2016-10-10', 0.0), ('2016-10-11', 0.11499999999999999), ('2016-10-12', 0.013333333333333334), ('2016-10-13', 0.013333333333333334), ('2016-10-14', 0.0), ('2016-10-15', 0.065), ('2016-10-16', 0.0), ('2016-10-17', 0.11000000000000001), ('2016-10-18', 0.09999999999999999), ('2016-10-19', 0.028333333333333332), ('2016-10-20', 0.202), ('2016-10-21', 0.064), ('2016-10-22', 0.354), ('2016-10-23', 0.055999999999999994), ('2016-10-24', 0.13166666666666665), ('2016-10-25', 0.15714285714285717), ('2016-10-26', 0.04833333333333334), ('2016-10-27', 0.31), ('2016-10-28', 0.09500000000000001), ('2016-10-29', 0.10666666666666667), ('2016-10-30', 0.26499999999999996), ('2016-10-31', 0.26833333333333337), ('2016-11-01', 0.035), ('2016-11-02', 0.006666666666666667), ('2016-11-03', 0.0033333333333333335), ('2016-11-04', 0.01), ('2016-11-05', 0.075), ('2016-11-06', 0.013333333333333334), ('2016-11-07', 0.03), ('2016-11-08', 0.18666666666666668), ('2016-11-09', 0.05714285714285714), ('2016-11-10', 0.0016666666666666668), ('2016-11-11', 0.0), ('2016-11-12', 0.0), ('2016-11-13', 0.0), ('2016-11-14', 0.02142857142857143), ('2016-11-15', 0.008333333333333333), ('2016-11-16', 0.25666666666666665), ('2016-11-17', 0.01), ('2016-11-18', 0.0075), ('2016-11-19', 0.095), ('2016-11-20', 0.23750000000000002), ('2016-11-21', 0.616), ('2016-11-22', 1.002), ('2016-11-23', 0.134), ('2016-11-24', 0.296), ('2016-11-25', 0.264), ('2016-11-26', 0.085), ('2016-11-27', 0.09166666666666667), ('2016-11-28', 0.12), ('2016-11-29', 0.07166666666666667), ('2016-11-30', 0.17666666666666667), ('2016-12-01', 0.295), ('2016-12-02', 0.3933333333333333), ('2016-12-03', 0.45166666666666666), ('2016-12-04', 0.13333333333333333), ('2016-12-05', 0.54), ('2016-12-06', 0.008), ('2016-12-07', 0.076), ('2016-12-08', 0.06571428571428573), ('2016-12-09', 0.37), ('2016-12-10', 0.026000000000000002), ('2016-12-11', 0.05), ('2016-12-12', 0.008333333333333333), ('2016-12-13', 0.12833333333333333), ('2016-12-14', 0.25), ('2016-12-15', 0.043333333333333335), ('2016-12-16', 0.006666666666666667), ('2016-12-17', 0.07), ('2016-12-18', 0.178), ('2016-12-19', 0.07), ('2016-12-20', 0.005), ('2016-12-21', 0.1285714285714286), ('2016-12-22', 0.4116666666666666), ('2016-12-23', 0.205), ('2016-12-24', 0.27), ('2016-12-25', 0.086), ('2016-12-26', 0.40800000000000003), ('2016-12-27', 0.04), ('2016-12-28', 0.06833333333333334), ('2016-12-29', 0.39666666666666667), ('2016-12-30', 0.5583333333333333), ('2016-12-31', 0.42800000000000005), ('2017-01-01', 0.06999999999999999), ('2017-01-02', 0.004), ('2017-01-03', 0.0), ('2017-01-04', 0.03), ('2017-01-05', 0.15833333333333333), ('2017-01-06', 0.13333333333333333), ('2017-01-07', 0.01), ('2017-01-08', 0.01), ('2017-01-09', 0.0), ('2017-01-10', 0.0), ('2017-01-11', 0.0), ('2017-01-12', 0.0), ('2017-01-13', 0.0), ('2017-01-14', 0.002), ('2017-01-15', 0.0025), ('2017-01-16', 0.0), ('2017-01-17', 0.0), ('2017-01-18', 0.011666666666666667), ('2017-01-19', 0.0033333333333333335), ('2017-01-20', 0.0), ('2017-01-21', 0.04666666666666666), ('2017-01-22', 0.20400000000000001), ('2017-01-23', 0.188), ('2017-01-24', 0.45), ('2017-01-25', 0.716), ('2017-01-26', 0.015714285714285715), ('2017-01-27', 0.008571428571428572), ('2017-01-28', 0.028000000000000004), ('2017-01-29', 0.2475), ('2017-01-30', 0.008333333333333333), ('2017-01-31', 0.0), ('2017-02-01', 0.0), ('2017-02-02', 0.0), ('2017-02-03', 0.0), ('2017-02-04', 0.0), ('2017-02-05', 0.0), ('2017-02-06', 0.06333333333333334), ('2017-02-07', 1.0571428571428572), ('2017-02-08', 0.1542857142857143), ('2017-02-09', 0.002857142857142857), ('2017-02-10', 0.0), ('2017-02-11', 1.866666666666667), ('2017-02-12', 1.7466666666666668), ('2017-02-13', 0.4866666666666666), ('2017-02-14', 0.0016666666666666668), ('2017-02-15', 0.016), ('2017-02-16', 0.36999999999999994), ('2017-02-17', 0.17500000000000004), ('2017-02-18', 0.0025), ('2017-02-19', 0.0475), ('2017-02-20', 0.0), ('2017-02-21', 0.026000000000000002), ('2017-02-22', 0.13000000000000003), ('2017-02-23', 0.0014285714285714286), ('2017-02-24', 0.0), ('2017-02-25', 0.0375), ('2017-02-26', 0.0), ('2017-02-27', 0.0), ('2017-02-28', 0.13666666666666666), ('2017-03-01', 1.6600000000000001), ('2017-03-02', 1.0933333333333333), ('2017-03-03', 0.37166666666666665), ('2017-03-04', 0.0), ('2017-03-05', 0.3025), ('2017-03-06', 0.135), ('2017-03-07', 0.0), ('2017-03-08', 0.0), ('2017-03-09', 0.3266666666666667), ('2017-03-10', 0.04142857142857143), ('2017-03-11', 0.008), ('2017-03-12', 0.0), ('2017-03-13', 0.0), ('2017-03-14', 0.008571428571428572), ('2017-03-15', 0.01), ('2017-03-16', 0.0), ('2017-03-17', 0.144), ('2017-03-18', 0.0), ('2017-03-19', 0.0), ('2017-03-20', 0.004), ('2017-03-21', 0.015), ('2017-03-22', 0.0), ('2017-03-23', 0.008333333333333333), ('2017-03-24', 0.18833333333333335), ('2017-03-25', 0.394), ('2017-03-26', 0.0), ('2017-03-27', 0.002), ('2017-03-28', 0.11833333333333335), ('2017-03-29', 0.03166666666666667), ('2017-03-30', 0.03), ('2017-03-31', 0.0016666666666666668), ('2017-04-01', 0.06833333333333334), ('2017-04-02', 0.0), ('2017-04-03', 0.11), ('2017-04-04', 0.02142857142857143), ('2017-04-05', 0.09428571428571429), ('2017-04-06', 0.008571428571428572), ('2017-04-07', 0.0), ('2017-04-08', 0.0), ('2017-04-09', 0.0), ('2017-04-10', 0.0033333333333333335), ('2017-04-11', 0.07833333333333332), ('2017-04-12', 0.18000000000000002), ('2017-04-13', 0.18166666666666667), ('2017-04-14', 1.1199999999999999), ('2017-04-15', 0.34800000000000003), ('2017-04-16', 0.21400000000000002), ('2017-04-17', 0.6140000000000001), ('2017-04-18', 0.48), ('2017-04-19', 0.03333333333333333), ('2017-04-20', 0.13), ('2017-04-21', 1.3966666666666667), ('2017-04-22', 0.9920000000000002), ('2017-04-23', 0.11499999999999999), ('2017-04-24', 0.015000000000000001), ('2017-04-25', 0.0), ('2017-04-26', 0.065), ('2017-04-27', 0.06999999999999999), ('2017-04-28', 0.7066666666666667), ('2017-04-29', 1.3399999999999999), ('2017-04-30', 1.07), ('2017-05-01', 0.135), ('2017-05-02', 0.008333333333333333), ('2017-05-03', 0.006), ('2017-05-04', 0.016), ('2017-05-05', 0.06333333333333334), ('2017-05-06', 0.01), ('2017-05-07', 0.024), ('2017-05-08', 0.5016666666666666), ('2017-05-09', 0.9260000000000002), ('2017-05-10', 0.14333333333333334), ('2017-05-11', 0.12), ('2017-05-12', 0.032), ('2017-05-13', 0.048), ('2017-05-14', 0.244), ('2017-05-15', 0.176), ('2017-05-16', 0.06999999999999999), ('2017-05-17', 0.025000000000000005), ('2017-05-18', 0.14166666666666666), ('2017-05-19', 0.01), ('2017-05-20', 0.0075), ('2017-05-21', 0.002), ('2017-05-22', 0.072), ('2017-05-23', 0.11833333333333333), ('2017-05-24', 0.6483333333333333), ('2017-05-25', 0.37000000000000005), ('2017-05-26', 0.004), ('2017-05-27', 0.085), ('2017-05-28', 0.06833333333333334), ('2017-05-29', 0.084), ('2017-05-30', 0.346), ('2017-05-31', 0.074), ('2017-06-01', 0.006666666666666667), ('2017-06-02', 0.06799999999999999), ('2017-06-03', 0.122), ('2017-06-04', 0.19166666666666665), ('2017-06-05', 0.013333333333333334), ('2017-06-06', 0.0), ('2017-06-07', 0.0016666666666666668), ('2017-06-08', 0.005), ('2017-06-09', 0.008), ('2017-06-10', 0.306), ('2017-06-11', 0.35833333333333334), ('2017-06-12', 0.2916666666666667), ('2017-06-13', 0.22999999999999998), ('2017-06-14', 0.26166666666666666), ('2017-06-15', 0.45166666666666666), ('2017-06-16', 0.03333333333333333), ('2017-06-17', 0.09000000000000001), ('2017-06-18', 0.23666666666666666), ('2017-06-19', 0.12166666666666666), ('2017-06-20', 0.11000000000000001), ('2017-06-21', 0.1275), ('2017-06-22', 0.07333333333333335), ('2017-06-23', 0.11166666666666665), ('2017-06-24', 0.128), ('2017-06-25', 0.12), ('2017-06-26', 0.02), ('2017-06-27', 0.018333333333333333), ('2017-06-28', 0.005), ('2017-06-29', 0.011666666666666667), ('2017-06-30', 0.07428571428571429), ('2017-07-01', 0.065), ('2017-07-02', 0.18), ('2017-07-03', 0.148), ('2017-07-04', 0.037500000000000006), ('2017-07-05', 0.0), ('2017-07-06', 0.004), ('2017-07-07', 0.1), ('2017-07-08', 0.016666666666666666), ('2017-07-09', 0.03333333333333333), ('2017-07-10', 0.006666666666666667), ('2017-07-11', 0.005), ('2017-07-12', 0.060000000000000005), ('2017-07-13', 0.3016666666666667), ('2017-07-14', 0.15833333333333335), ('2017-07-15', 0.03166666666666667), ('2017-07-16', 0.135), ('2017-07-17', 0.15166666666666667), ('2017-07-18', 0.3614285714285714), ('2017-07-19', 0.06833333333333334), ('2017-07-20', 0.17714285714285713), ('2017-07-21', 0.018571428571428572), ('2017-07-22', 0.7366666666666667), ('2017-07-23', 0.22600000000000003), ('2017-07-24', 0.6539999999999999), ('2017-07-25', 0.08714285714285715), ('2017-07-26', 0.08333333333333333), ('2017-07-27', 0.0016666666666666668), ('2017-07-28', 0.11), ('2017-07-29', 0.10166666666666667), ('2017-07-30', 0.06), ('2017-07-31', 0.0), ('2017-08-01', 0.04666666666666666), ('2017-08-02', 0.075), ('2017-08-03', 0.017499999999999998), ('2017-08-04', 0.015), ('2017-08-05', 0.03), ('2017-08-06', 0.0), ('2017-08-07', 0.0125), ('2017-08-08', 0.11000000000000001), ('2017-08-09', 0.049999999999999996), ('2017-08-10', 0.0175), ('2017-08-11', 0.0), ('2017-08-12', 0.04666666666666667), ('2017-08-13', 0.0), ('2017-08-14', 0.062), ('2017-08-15', 0.164), ('2017-08-16', 0.1525), ('2017-08-17', 0.0475), ('2017-08-18', 0.02), ('2017-08-19', 0.03), ('2017-08-20', 0.005), ('2017-08-21', 0.19333333333333336), ('2017-08-22', 0.16666666666666666), ('2017-08-23', 0.1325)]\n"
     ]
    }
   ],
   "source": [
    "# Design a query to retrieve the last 12 months of precipitation data and plot the results\n",
    "# Calculate the date 1 year ago from the last data point in the database\n",
    "# Perform a query to retrieve the data and precipitation scores\n",
    "# Sort the dataframe by date\n",
    "sel = [Measurement.date, func.avg(Measurement.prcp)]\n",
    "past_12mo = session.query(*sel).filter(Measurement.date.between('2016-08-23', '2017-08-23')).group_by(Measurement.date).\\\n",
    "    order_by(Measurement.date).all()\n",
    "print(past_12mo)"
   ]
  },
  {
   "cell_type": "code",
   "execution_count": 10,
   "metadata": {},
   "outputs": [],
   "source": [
    "# Save the query results as a Pandas DataFrame and set the index to the date column\n",
    "prcp_df = pd.DataFrame(past_12mo, columns =['date', 'percipitation'])\n",
    "prcp_df.set_index('date', inplace = True)\n"
   ]
  },
  {
   "cell_type": "code",
   "execution_count": 11,
   "metadata": {},
   "outputs": [
    {
     "data": {
      "text/html": [
       "<div>\n",
       "<style scoped>\n",
       "    .dataframe tbody tr th:only-of-type {\n",
       "        vertical-align: middle;\n",
       "    }\n",
       "\n",
       "    .dataframe tbody tr th {\n",
       "        vertical-align: top;\n",
       "    }\n",
       "\n",
       "    .dataframe thead th {\n",
       "        text-align: right;\n",
       "    }\n",
       "</style>\n",
       "<table border=\"1\" class=\"dataframe\">\n",
       "  <thead>\n",
       "    <tr style=\"text-align: right;\">\n",
       "      <th></th>\n",
       "      <th>percipitation</th>\n",
       "    </tr>\n",
       "    <tr>\n",
       "      <th>date</th>\n",
       "      <th></th>\n",
       "    </tr>\n",
       "  </thead>\n",
       "  <tbody>\n",
       "    <tr>\n",
       "      <th>2016-08-23</th>\n",
       "      <td>0.451667</td>\n",
       "    </tr>\n",
       "    <tr>\n",
       "      <th>2016-08-24</th>\n",
       "      <td>1.555000</td>\n",
       "    </tr>\n",
       "    <tr>\n",
       "      <th>2016-08-25</th>\n",
       "      <td>0.077143</td>\n",
       "    </tr>\n",
       "    <tr>\n",
       "      <th>2016-08-26</th>\n",
       "      <td>0.016667</td>\n",
       "    </tr>\n",
       "    <tr>\n",
       "      <th>2016-08-27</th>\n",
       "      <td>0.064000</td>\n",
       "    </tr>\n",
       "    <tr>\n",
       "      <th>2016-08-28</th>\n",
       "      <td>0.516667</td>\n",
       "    </tr>\n",
       "    <tr>\n",
       "      <th>2016-08-29</th>\n",
       "      <td>0.243333</td>\n",
       "    </tr>\n",
       "    <tr>\n",
       "      <th>2016-08-30</th>\n",
       "      <td>0.011667</td>\n",
       "    </tr>\n",
       "    <tr>\n",
       "      <th>2016-08-31</th>\n",
       "      <td>0.636000</td>\n",
       "    </tr>\n",
       "    <tr>\n",
       "      <th>2016-09-01</th>\n",
       "      <td>0.006000</td>\n",
       "    </tr>\n",
       "    <tr>\n",
       "      <th>2016-09-02</th>\n",
       "      <td>0.050000</td>\n",
       "    </tr>\n",
       "    <tr>\n",
       "      <th>2016-09-03</th>\n",
       "      <td>0.254000</td>\n",
       "    </tr>\n",
       "    <tr>\n",
       "      <th>2016-09-04</th>\n",
       "      <td>0.276000</td>\n",
       "    </tr>\n",
       "    <tr>\n",
       "      <th>2016-09-05</th>\n",
       "      <td>0.085000</td>\n",
       "    </tr>\n",
       "    <tr>\n",
       "      <th>2016-09-06</th>\n",
       "      <td>0.246000</td>\n",
       "    </tr>\n",
       "    <tr>\n",
       "      <th>2016-09-07</th>\n",
       "      <td>0.333333</td>\n",
       "    </tr>\n",
       "    <tr>\n",
       "      <th>2016-09-08</th>\n",
       "      <td>0.076667</td>\n",
       "    </tr>\n",
       "    <tr>\n",
       "      <th>2016-09-09</th>\n",
       "      <td>0.178333</td>\n",
       "    </tr>\n",
       "    <tr>\n",
       "      <th>2016-09-10</th>\n",
       "      <td>0.280000</td>\n",
       "    </tr>\n",
       "    <tr>\n",
       "      <th>2016-09-11</th>\n",
       "      <td>0.250000</td>\n",
       "    </tr>\n",
       "    <tr>\n",
       "      <th>2016-09-12</th>\n",
       "      <td>0.308000</td>\n",
       "    </tr>\n",
       "    <tr>\n",
       "      <th>2016-09-13</th>\n",
       "      <td>0.451667</td>\n",
       "    </tr>\n",
       "    <tr>\n",
       "      <th>2016-09-14</th>\n",
       "      <td>2.380000</td>\n",
       "    </tr>\n",
       "    <tr>\n",
       "      <th>2016-09-15</th>\n",
       "      <td>0.826667</td>\n",
       "    </tr>\n",
       "    <tr>\n",
       "      <th>2016-09-16</th>\n",
       "      <td>0.117143</td>\n",
       "    </tr>\n",
       "    <tr>\n",
       "      <th>2016-09-17</th>\n",
       "      <td>0.136000</td>\n",
       "    </tr>\n",
       "    <tr>\n",
       "      <th>2016-09-18</th>\n",
       "      <td>0.106000</td>\n",
       "    </tr>\n",
       "    <tr>\n",
       "      <th>2016-09-19</th>\n",
       "      <td>0.064000</td>\n",
       "    </tr>\n",
       "    <tr>\n",
       "      <th>2016-09-20</th>\n",
       "      <td>0.147143</td>\n",
       "    </tr>\n",
       "    <tr>\n",
       "      <th>2016-09-21</th>\n",
       "      <td>0.195000</td>\n",
       "    </tr>\n",
       "    <tr>\n",
       "      <th>...</th>\n",
       "      <td>...</td>\n",
       "    </tr>\n",
       "    <tr>\n",
       "      <th>2017-07-25</th>\n",
       "      <td>0.087143</td>\n",
       "    </tr>\n",
       "    <tr>\n",
       "      <th>2017-07-26</th>\n",
       "      <td>0.083333</td>\n",
       "    </tr>\n",
       "    <tr>\n",
       "      <th>2017-07-27</th>\n",
       "      <td>0.001667</td>\n",
       "    </tr>\n",
       "    <tr>\n",
       "      <th>2017-07-28</th>\n",
       "      <td>0.110000</td>\n",
       "    </tr>\n",
       "    <tr>\n",
       "      <th>2017-07-29</th>\n",
       "      <td>0.101667</td>\n",
       "    </tr>\n",
       "    <tr>\n",
       "      <th>2017-07-30</th>\n",
       "      <td>0.060000</td>\n",
       "    </tr>\n",
       "    <tr>\n",
       "      <th>2017-07-31</th>\n",
       "      <td>0.000000</td>\n",
       "    </tr>\n",
       "    <tr>\n",
       "      <th>2017-08-01</th>\n",
       "      <td>0.046667</td>\n",
       "    </tr>\n",
       "    <tr>\n",
       "      <th>2017-08-02</th>\n",
       "      <td>0.075000</td>\n",
       "    </tr>\n",
       "    <tr>\n",
       "      <th>2017-08-03</th>\n",
       "      <td>0.017500</td>\n",
       "    </tr>\n",
       "    <tr>\n",
       "      <th>2017-08-04</th>\n",
       "      <td>0.015000</td>\n",
       "    </tr>\n",
       "    <tr>\n",
       "      <th>2017-08-05</th>\n",
       "      <td>0.030000</td>\n",
       "    </tr>\n",
       "    <tr>\n",
       "      <th>2017-08-06</th>\n",
       "      <td>0.000000</td>\n",
       "    </tr>\n",
       "    <tr>\n",
       "      <th>2017-08-07</th>\n",
       "      <td>0.012500</td>\n",
       "    </tr>\n",
       "    <tr>\n",
       "      <th>2017-08-08</th>\n",
       "      <td>0.110000</td>\n",
       "    </tr>\n",
       "    <tr>\n",
       "      <th>2017-08-09</th>\n",
       "      <td>0.050000</td>\n",
       "    </tr>\n",
       "    <tr>\n",
       "      <th>2017-08-10</th>\n",
       "      <td>0.017500</td>\n",
       "    </tr>\n",
       "    <tr>\n",
       "      <th>2017-08-11</th>\n",
       "      <td>0.000000</td>\n",
       "    </tr>\n",
       "    <tr>\n",
       "      <th>2017-08-12</th>\n",
       "      <td>0.046667</td>\n",
       "    </tr>\n",
       "    <tr>\n",
       "      <th>2017-08-13</th>\n",
       "      <td>0.000000</td>\n",
       "    </tr>\n",
       "    <tr>\n",
       "      <th>2017-08-14</th>\n",
       "      <td>0.062000</td>\n",
       "    </tr>\n",
       "    <tr>\n",
       "      <th>2017-08-15</th>\n",
       "      <td>0.164000</td>\n",
       "    </tr>\n",
       "    <tr>\n",
       "      <th>2017-08-16</th>\n",
       "      <td>0.152500</td>\n",
       "    </tr>\n",
       "    <tr>\n",
       "      <th>2017-08-17</th>\n",
       "      <td>0.047500</td>\n",
       "    </tr>\n",
       "    <tr>\n",
       "      <th>2017-08-18</th>\n",
       "      <td>0.020000</td>\n",
       "    </tr>\n",
       "    <tr>\n",
       "      <th>2017-08-19</th>\n",
       "      <td>0.030000</td>\n",
       "    </tr>\n",
       "    <tr>\n",
       "      <th>2017-08-20</th>\n",
       "      <td>0.005000</td>\n",
       "    </tr>\n",
       "    <tr>\n",
       "      <th>2017-08-21</th>\n",
       "      <td>0.193333</td>\n",
       "    </tr>\n",
       "    <tr>\n",
       "      <th>2017-08-22</th>\n",
       "      <td>0.166667</td>\n",
       "    </tr>\n",
       "    <tr>\n",
       "      <th>2017-08-23</th>\n",
       "      <td>0.132500</td>\n",
       "    </tr>\n",
       "  </tbody>\n",
       "</table>\n",
       "<p>366 rows × 1 columns</p>\n",
       "</div>"
      ],
      "text/plain": [
       "            percipitation\n",
       "date                     \n",
       "2016-08-23       0.451667\n",
       "2016-08-24       1.555000\n",
       "2016-08-25       0.077143\n",
       "2016-08-26       0.016667\n",
       "2016-08-27       0.064000\n",
       "2016-08-28       0.516667\n",
       "2016-08-29       0.243333\n",
       "2016-08-30       0.011667\n",
       "2016-08-31       0.636000\n",
       "2016-09-01       0.006000\n",
       "2016-09-02       0.050000\n",
       "2016-09-03       0.254000\n",
       "2016-09-04       0.276000\n",
       "2016-09-05       0.085000\n",
       "2016-09-06       0.246000\n",
       "2016-09-07       0.333333\n",
       "2016-09-08       0.076667\n",
       "2016-09-09       0.178333\n",
       "2016-09-10       0.280000\n",
       "2016-09-11       0.250000\n",
       "2016-09-12       0.308000\n",
       "2016-09-13       0.451667\n",
       "2016-09-14       2.380000\n",
       "2016-09-15       0.826667\n",
       "2016-09-16       0.117143\n",
       "2016-09-17       0.136000\n",
       "2016-09-18       0.106000\n",
       "2016-09-19       0.064000\n",
       "2016-09-20       0.147143\n",
       "2016-09-21       0.195000\n",
       "...                   ...\n",
       "2017-07-25       0.087143\n",
       "2017-07-26       0.083333\n",
       "2017-07-27       0.001667\n",
       "2017-07-28       0.110000\n",
       "2017-07-29       0.101667\n",
       "2017-07-30       0.060000\n",
       "2017-07-31       0.000000\n",
       "2017-08-01       0.046667\n",
       "2017-08-02       0.075000\n",
       "2017-08-03       0.017500\n",
       "2017-08-04       0.015000\n",
       "2017-08-05       0.030000\n",
       "2017-08-06       0.000000\n",
       "2017-08-07       0.012500\n",
       "2017-08-08       0.110000\n",
       "2017-08-09       0.050000\n",
       "2017-08-10       0.017500\n",
       "2017-08-11       0.000000\n",
       "2017-08-12       0.046667\n",
       "2017-08-13       0.000000\n",
       "2017-08-14       0.062000\n",
       "2017-08-15       0.164000\n",
       "2017-08-16       0.152500\n",
       "2017-08-17       0.047500\n",
       "2017-08-18       0.020000\n",
       "2017-08-19       0.030000\n",
       "2017-08-20       0.005000\n",
       "2017-08-21       0.193333\n",
       "2017-08-22       0.166667\n",
       "2017-08-23       0.132500\n",
       "\n",
       "[366 rows x 1 columns]"
      ]
     },
     "execution_count": 11,
     "metadata": {},
     "output_type": "execute_result"
    }
   ],
   "source": [
    "#look at it\n",
    "prcp_df"
   ]
  },
  {
   "cell_type": "markdown",
   "metadata": {},
   "source": [
    "## Exploratory Climate Analysis"
   ]
  },
  {
   "cell_type": "code",
   "execution_count": 12,
   "metadata": {},
   "outputs": [
    {
     "data": {
      "image/png": "[encoded data removed]",
      "text/plain": [
       "<Figure size 432x288 with 1 Axes>"
      ]
     },
     "metadata": {
      "needs_background": "light"
     },
     "output_type": "display_data"
    }
   ],
   "source": [
    "# Use Pandas Plotting with Matplotlib to plot the data\n",
    "prcp_df.plot.bar()\n",
    "plt.tight_layout()\n",
    "plt.xticks([])\n",
    "plt.show()\n",
    "\n",
    "# this is a weird looking graph!"
   ]
  },
  {
   "cell_type": "code",
   "execution_count": 13,
   "metadata": {},
   "outputs": [
    {
     "data": {
      "text/html": [
       "<div>\n",
       "<style scoped>\n",
       "    .dataframe tbody tr th:only-of-type {\n",
       "        vertical-align: middle;\n",
       "    }\n",
       "\n",
       "    .dataframe tbody tr th {\n",
       "        vertical-align: top;\n",
       "    }\n",
       "\n",
       "    .dataframe thead th {\n",
       "        text-align: right;\n",
       "    }\n",
       "</style>\n",
       "<table border=\"1\" class=\"dataframe\">\n",
       "  <thead>\n",
       "    <tr style=\"text-align: right;\">\n",
       "      <th></th>\n",
       "      <th>percipitation</th>\n",
       "    </tr>\n",
       "  </thead>\n",
       "  <tbody>\n",
       "    <tr>\n",
       "      <th>count</th>\n",
       "      <td>366.000000</td>\n",
       "    </tr>\n",
       "    <tr>\n",
       "      <th>mean</th>\n",
       "      <td>0.170757</td>\n",
       "    </tr>\n",
       "    <tr>\n",
       "      <th>std</th>\n",
       "      <td>0.295683</td>\n",
       "    </tr>\n",
       "    <tr>\n",
       "      <th>min</th>\n",
       "      <td>0.000000</td>\n",
       "    </tr>\n",
       "    <tr>\n",
       "      <th>25%</th>\n",
       "      <td>0.008571</td>\n",
       "    </tr>\n",
       "    <tr>\n",
       "      <th>50%</th>\n",
       "      <td>0.070000</td>\n",
       "    </tr>\n",
       "    <tr>\n",
       "      <th>75%</th>\n",
       "      <td>0.191667</td>\n",
       "    </tr>\n",
       "    <tr>\n",
       "      <th>max</th>\n",
       "      <td>2.380000</td>\n",
       "    </tr>\n",
       "  </tbody>\n",
       "</table>\n",
       "</div>"
      ],
      "text/plain": [
       "       percipitation\n",
       "count     366.000000\n",
       "mean        0.170757\n",
       "std         0.295683\n",
       "min         0.000000\n",
       "25%         0.008571\n",
       "50%         0.070000\n",
       "75%         0.191667\n",
       "max         2.380000"
      ]
     },
     "execution_count": 13,
     "metadata": {},
     "output_type": "execute_result"
    }
   ],
   "source": [
    "# Use Pandas to calcualte the summary statistics for the precipitation data \n",
    "prcp_df.describe()"
   ]
  },
  {
   "cell_type": "code",
   "execution_count": 14,
   "metadata": {
    "scrolled": true
   },
   "outputs": [
    {
     "data": {
      "text/plain": [
       "[{'name': 'id',\n",
       "  'type': INTEGER(),\n",
       "  'nullable': False,\n",
       "  'default': None,\n",
       "  'autoincrement': 'auto',\n",
       "  'primary_key': 1},\n",
       " {'name': 'station',\n",
       "  'type': TEXT(),\n",
       "  'nullable': True,\n",
       "  'default': None,\n",
       "  'autoincrement': 'auto',\n",
       "  'primary_key': 0},\n",
       " {'name': 'name',\n",
       "  'type': TEXT(),\n",
       "  'nullable': True,\n",
       "  'default': None,\n",
       "  'autoincrement': 'auto',\n",
       "  'primary_key': 0},\n",
       " {'name': 'latitude',\n",
       "  'type': FLOAT(),\n",
       "  'nullable': True,\n",
       "  'default': None,\n",
       "  'autoincrement': 'auto',\n",
       "  'primary_key': 0},\n",
       " {'name': 'longitude',\n",
       "  'type': FLOAT(),\n",
       "  'nullable': True,\n",
       "  'default': None,\n",
       "  'autoincrement': 'auto',\n",
       "  'primary_key': 0},\n",
       " {'name': 'elevation',\n",
       "  'type': FLOAT(),\n",
       "  'nullable': True,\n",
       "  'default': None,\n",
       "  'autoincrement': 'auto',\n",
       "  'primary_key': 0}]"
      ]
     },
     "execution_count": 14,
     "metadata": {},
     "output_type": "execute_result"
    }
   ],
   "source": [
    "# Design a query to show how many stations are available in this dataset?\n",
    "inspector = inspect(engine)\n",
    "inspector.get_table_names()\n",
    "inspector.get_columns('station')\n"
   ]
  },
  {
   "cell_type": "markdown",
   "metadata": {},
   "source": [
    "## Station Analysis"
   ]
  },
  {
   "cell_type": "code",
   "execution_count": 20,
   "metadata": {},
   "outputs": [
    {
     "data": {
      "text/plain": [
       "9"
      ]
     },
     "execution_count": 20,
     "metadata": {},
     "output_type": "execute_result"
    }
   ],
   "source": [
    "# Design a query to show how many stations are available in this dataset?\n",
    "stations = session.query(Station.station).count()\n",
    "stations"
   ]
  },
  {
   "cell_type": "code",
   "execution_count": 33,
   "metadata": {},
   "outputs": [
    {
     "data": {
      "text/plain": [
       "[('USC00519281', 2772),\n",
       " ('USC00519397', 2724),\n",
       " ('USC00513117', 2709),\n",
       " ('USC00519523', 2669),\n",
       " ('USC00516128', 2612),\n",
       " ('USC00514830', 2202),\n",
       " ('USC00511918', 1979),\n",
       " ('USC00517948', 1372),\n",
       " ('USC00518838', 511)]"
      ]
     },
     "execution_count": 33,
     "metadata": {},
     "output_type": "execute_result"
    }
   ],
   "source": [
    " # What are the most active stations? (i.e. what stations have the most rows)?\n",
    "# List the stations and the counts in descending order.\n",
    "sel = [Measurement.station, \n",
    "      func.count(Measurement.station)]\n",
    "\n",
    "station_max = session.query(*sel).group_by(Measurement.station).\\\n",
    "    order_by(func.count(Measurement.station).desc()).all()\n",
    "\n",
    "station_max"
   ]
  },
  {
   "cell_type": "code",
   "execution_count": 36,
   "metadata": {},
   "outputs": [
    {
     "data": {
      "text/plain": [
       "[(54.0, 85.0, 54.0, 71.66378066378067)]"
      ]
     },
     "execution_count": 36,
     "metadata": {},
     "output_type": "execute_result"
    }
   ],
   "source": [
    " # Using the station id from the previous query, calculate the lowest temperature recorded, \n",
    "# highest temperature recorded, and average temperature most active station?\n",
    "\n",
    "sel = [Measurement.tobs,\n",
    "      func.max(Measurement.tobs),\n",
    "      func.min(Measurement.tobs),\n",
    "      func.avg(Measurement.tobs)]\n",
    "\n",
    "station_temp = session.query(*sel).filter(Measurement.station == 'USC00519281').\\\n",
    "    all()\n",
    "\n",
    "station_temp"
   ]
  },
  {
   "cell_type": "markdown",
   "metadata": {},
   "source": [
    "## Get the temperature for the past 12 months for the station with the highest observations"
   ]
  },
  {
   "cell_type": "code",
   "execution_count": 45,
   "metadata": {},
   "outputs": [
    {
     "name": "stdout",
     "output_type": "stream",
     "text": [
      "[('USC00519281', 77.0), ('USC00519281', 77.0), ('USC00519281', 80.0), ('USC00519281', 80.0), ('USC00519281', 75.0), ('USC00519281', 73.0), ('USC00519281', 78.0), ('USC00519281', 77.0), ('USC00519281', 78.0), ('USC00519281', 80.0), ('USC00519281', 80.0), ('USC00519281', 78.0), ('USC00519281', 78.0), ('USC00519281', 78.0), ('USC00519281', 73.0), ('USC00519281', 74.0), ('USC00519281', 80.0), ('USC00519281', 79.0), ('USC00519281', 77.0), ('USC00519281', 80.0), ('USC00519281', 76.0), ('USC00519281', 79.0), ('USC00519281', 75.0), ('USC00519281', 79.0), ('USC00519281', 78.0), ('USC00519281', 79.0), ('USC00519281', 78.0), ('USC00519281', 78.0), ('USC00519281', 76.0), ('USC00519281', 74.0), ('USC00519281', 77.0), ('USC00519281', 78.0), ('USC00519281', 79.0), ('USC00519281', 79.0), ('USC00519281', 77.0), ('USC00519281', 80.0), ('USC00519281', 78.0), ('USC00519281', 78.0), ('USC00519281', 78.0), ('USC00519281', 77.0), ('USC00519281', 79.0), ('USC00519281', 79.0), ('USC00519281', 79.0), ('USC00519281', 79.0), ('USC00519281', 75.0), ('USC00519281', 76.0), ('USC00519281', 73.0), ('USC00519281', 72.0), ('USC00519281', 71.0), ('USC00519281', 77.0), ('USC00519281', 79.0), ('USC00519281', 78.0), ('USC00519281', 79.0), ('USC00519281', 77.0), ('USC00519281', 79.0), ('USC00519281', 77.0), ('USC00519281', 78.0), ('USC00519281', 78.0), ('USC00519281', 78.0), ('USC00519281', 78.0), ('USC00519281', 77.0), ('USC00519281', 74.0), ('USC00519281', 75.0), ('USC00519281', 76.0), ('USC00519281', 73.0), ('USC00519281', 76.0), ('USC00519281', 74.0), ('USC00519281', 77.0), ('USC00519281', 76.0), ('USC00519281', 76.0), ('USC00519281', 74.0), ('USC00519281', 75.0), ('USC00519281', 75.0), ('USC00519281', 75.0), ('USC00519281', 75.0), ('USC00519281', 71.0), ('USC00519281', 63.0), ('USC00519281', 70.0), ('USC00519281', 68.0), ('USC00519281', 67.0), ('USC00519281', 77.0), ('USC00519281', 74.0), ('USC00519281', 77.0), ('USC00519281', 76.0), ('USC00519281', 76.0), ('USC00519281', 75.0), ('USC00519281', 76.0), ('USC00519281', 75.0), ('USC00519281', 73.0), ('USC00519281', 75.0), ('USC00519281', 73.0), ('USC00519281', 75.0), ('USC00519281', 74.0), ('USC00519281', 75.0), ('USC00519281', 74.0), ('USC00519281', 75.0), ('USC00519281', 73.0), ('USC00519281', 75.0), ('USC00519281', 73.0), ('USC00519281', 73.0), ('USC00519281', 74.0), ('USC00519281', 70.0), ('USC00519281', 72.0), ('USC00519281', 70.0), ('USC00519281', 67.0), ('USC00519281', 67.0), ('USC00519281', 69.0), ('USC00519281', 70.0), ('USC00519281', 68.0), ('USC00519281', 69.0), ('USC00519281', 69.0), ('USC00519281', 66.0), ('USC00519281', 65.0), ('USC00519281', 68.0), ('USC00519281', 62.0), ('USC00519281', 75.0), ('USC00519281', 70.0), ('USC00519281', 69.0), ('USC00519281', 76.0), ('USC00519281', 76.0), ('USC00519281', 74.0), ('USC00519281', 73.0), ('USC00519281', 71.0), ('USC00519281', 74.0), ('USC00519281', 74.0), ('USC00519281', 72.0), ('USC00519281', 71.0), ('USC00519281', 72.0), ('USC00519281', 74.0), ('USC00519281', 69.0), ('USC00519281', 67.0), ('USC00519281', 72.0), ('USC00519281', 70.0), ('USC00519281', 64.0), ('USC00519281', 63.0), ('USC00519281', 63.0), ('USC00519281', 62.0), ('USC00519281', 70.0), ('USC00519281', 70.0), ('USC00519281', 62.0), ('USC00519281', 62.0), ('USC00519281', 63.0), ('USC00519281', 65.0), ('USC00519281', 69.0), ('USC00519281', 77.0), ('USC00519281', 70.0), ('USC00519281', 74.0), ('USC00519281', 69.0), ('USC00519281', 72.0), ('USC00519281', 71.0), ('USC00519281', 69.0), ('USC00519281', 71.0), ('USC00519281', 71.0), ('USC00519281', 72.0), ('USC00519281', 72.0), ('USC00519281', 69.0), ('USC00519281', 70.0), ('USC00519281', 66.0), ('USC00519281', 65.0), ('USC00519281', 69.0), ('USC00519281', 68.0), ('USC00519281', 68.0), ('USC00519281', 68.0), ('USC00519281', 59.0), ('USC00519281', 60.0), ('USC00519281', 70.0), ('USC00519281', 73.0), ('USC00519281', 75.0), ('USC00519281', 64.0), ('USC00519281', 59.0), ('USC00519281', 59.0), ('USC00519281', 62.0), ('USC00519281', 68.0), ('USC00519281', 70.0), ('USC00519281', 73.0), ('USC00519281', 79.0), ('USC00519281', 75.0), ('USC00519281', 65.0), ('USC00519281', 70.0), ('USC00519281', 74.0), ('USC00519281', 70.0), ('USC00519281', 70.0), ('USC00519281', 71.0), ('USC00519281', 71.0), ('USC00519281', 71.0), ('USC00519281', 69.0), ('USC00519281', 61.0), ('USC00519281', 67.0), ('USC00519281', 65.0), ('USC00519281', 72.0), ('USC00519281', 71.0), ('USC00519281', 73.0), ('USC00519281', 72.0), ('USC00519281', 77.0), ('USC00519281', 73.0), ('USC00519281', 67.0), ('USC00519281', 62.0), ('USC00519281', 64.0), ('USC00519281', 67.0), ('USC00519281', 66.0), ('USC00519281', 81.0), ('USC00519281', 69.0), ('USC00519281', 66.0), ('USC00519281', 67.0), ('USC00519281', 69.0), ('USC00519281', 66.0), ('USC00519281', 68.0), ('USC00519281', 65.0), ('USC00519281', 74.0), ('USC00519281', 69.0), ('USC00519281', 72.0), ('USC00519281', 73.0), ('USC00519281', 72.0), ('USC00519281', 71.0), ('USC00519281', 76.0), ('USC00519281', 77.0), ('USC00519281', 76.0), ('USC00519281', 74.0), ('USC00519281', 68.0), ('USC00519281', 73.0), ('USC00519281', 71.0), ('USC00519281', 74.0), ('USC00519281', 75.0), ('USC00519281', 70.0), ('USC00519281', 67.0), ('USC00519281', 71.0), ('USC00519281', 67.0), ('USC00519281', 74.0), ('USC00519281', 77.0), ('USC00519281', 78.0), ('USC00519281', 67.0), ('USC00519281', 70.0), ('USC00519281', 69.0), ('USC00519281', 69.0), ('USC00519281', 74.0), ('USC00519281', 78.0), ('USC00519281', 71.0), ('USC00519281', 67.0), ('USC00519281', 68.0), ('USC00519281', 67.0), ('USC00519281', 76.0), ('USC00519281', 69.0), ('USC00519281', 72.0), ('USC00519281', 76.0), ('USC00519281', 68.0), ('USC00519281', 72.0), ('USC00519281', 74.0), ('USC00519281', 70.0), ('USC00519281', 67.0), ('USC00519281', 72.0), ('USC00519281', 60.0), ('USC00519281', 65.0), ('USC00519281', 75.0), ('USC00519281', 70.0), ('USC00519281', 75.0), ('USC00519281', 70.0), ('USC00519281', 79.0), ('USC00519281', 75.0), ('USC00519281', 70.0), ('USC00519281', 67.0), ('USC00519281', 74.0), ('USC00519281', 70.0), ('USC00519281', 75.0), ('USC00519281', 76.0), ('USC00519281', 77.0), ('USC00519281', 74.0), ('USC00519281', 74.0), ('USC00519281', 74.0), ('USC00519281', 69.0), ('USC00519281', 68.0), ('USC00519281', 76.0), ('USC00519281', 74.0), ('USC00519281', 71.0), ('USC00519281', 71.0), ('USC00519281', 74.0), ('USC00519281', 74.0), ('USC00519281', 74.0), ('USC00519281', 74.0), ('USC00519281', 80.0), ('USC00519281', 74.0), ('USC00519281', 72.0), ('USC00519281', 75.0), ('USC00519281', 80.0), ('USC00519281', 76.0), ('USC00519281', 76.0), ('USC00519281', 77.0), ('USC00519281', 75.0), ('USC00519281', 75.0), ('USC00519281', 75.0), ('USC00519281', 75.0), ('USC00519281', 72.0), ('USC00519281', 74.0), ('USC00519281', 74.0), ('USC00519281', 74.0), ('USC00519281', 76.0), ('USC00519281', 74.0), ('USC00519281', 75.0), ('USC00519281', 73.0), ('USC00519281', 79.0), ('USC00519281', 75.0), ('USC00519281', 72.0), ('USC00519281', 72.0), ('USC00519281', 74.0), ('USC00519281', 72.0), ('USC00519281', 72.0), ('USC00519281', 77.0), ('USC00519281', 71.0), ('USC00519281', 73.0), ('USC00519281', 76.0), ('USC00519281', 77.0), ('USC00519281', 76.0), ('USC00519281', 76.0), ('USC00519281', 79.0), ('USC00519281', 81.0), ('USC00519281', 76.0), ('USC00519281', 78.0), ('USC00519281', 77.0), ('USC00519281', 74.0), ('USC00519281', 75.0), ('USC00519281', 78.0), ('USC00519281', 78.0), ('USC00519281', 69.0), ('USC00519281', 72.0), ('USC00519281', 74.0), ('USC00519281', 74.0), ('USC00519281', 76.0), ('USC00519281', 80.0), ('USC00519281', 80.0), ('USC00519281', 76.0), ('USC00519281', 76.0), ('USC00519281', 76.0), ('USC00519281', 77.0), ('USC00519281', 77.0), ('USC00519281', 77.0), ('USC00519281', 82.0), ('USC00519281', 75.0), ('USC00519281', 77.0), ('USC00519281', 75.0), ('USC00519281', 76.0), ('USC00519281', 81.0), ('USC00519281', 82.0), ('USC00519281', 81.0), ('USC00519281', 76.0), ('USC00519281', 77.0), ('USC00519281', 82.0), ('USC00519281', 83.0), ('USC00519281', 77.0), ('USC00519281', 77.0), ('USC00519281', 77.0), ('USC00519281', 76.0), ('USC00519281', 76.0), ('USC00519281', 79.0)]\n"
     ]
    }
   ],
   "source": [
    "# Choose the station with the highest number of temperature observations.\n",
    "# Query the last 12 months of temperature observation data for this station and plot the results as a histogram\n",
    "\n",
    "sel = [Measurement.station,\n",
    "      Measurement.tobs]\n",
    "\n",
    "temp_12mo = session.query(*sel).filter(Measurement.date.between('2016-08-23', '2017-08-23')).\\\n",
    "    filter(Measurement.station =='USC00519281').all()\n",
    "print(temp_12mo)\n"
   ]
  },
  {
   "cell_type": "markdown",
   "metadata": {},
   "source": [
    "## Graph it"
   ]
  },
  {
   "cell_type": "code",
   "execution_count": 47,
   "metadata": {},
   "outputs": [
    {
     "data": {
      "text/html": [
       "<div>\n",
       "<style scoped>\n",
       "    .dataframe tbody tr th:only-of-type {\n",
       "        vertical-align: middle;\n",
       "    }\n",
       "\n",
       "    .dataframe tbody tr th {\n",
       "        vertical-align: top;\n",
       "    }\n",
       "\n",
       "    .dataframe thead th {\n",
       "        text-align: right;\n",
       "    }\n",
       "</style>\n",
       "<table border=\"1\" class=\"dataframe\">\n",
       "  <thead>\n",
       "    <tr style=\"text-align: right;\">\n",
       "      <th></th>\n",
       "      <th>station</th>\n",
       "      <th>tobs</th>\n",
       "    </tr>\n",
       "  </thead>\n",
       "  <tbody>\n",
       "    <tr>\n",
       "      <th>0</th>\n",
       "      <td>USC00519281</td>\n",
       "      <td>77.0</td>\n",
       "    </tr>\n",
       "    <tr>\n",
       "      <th>1</th>\n",
       "      <td>USC00519281</td>\n",
       "      <td>77.0</td>\n",
       "    </tr>\n",
       "    <tr>\n",
       "      <th>2</th>\n",
       "      <td>USC00519281</td>\n",
       "      <td>80.0</td>\n",
       "    </tr>\n",
       "    <tr>\n",
       "      <th>3</th>\n",
       "      <td>USC00519281</td>\n",
       "      <td>80.0</td>\n",
       "    </tr>\n",
       "    <tr>\n",
       "      <th>4</th>\n",
       "      <td>USC00519281</td>\n",
       "      <td>75.0</td>\n",
       "    </tr>\n",
       "  </tbody>\n",
       "</table>\n",
       "</div>"
      ],
      "text/plain": [
       "       station  tobs\n",
       "0  USC00519281  77.0\n",
       "1  USC00519281  77.0\n",
       "2  USC00519281  80.0\n",
       "3  USC00519281  80.0\n",
       "4  USC00519281  75.0"
      ]
     },
     "execution_count": 47,
     "metadata": {},
     "output_type": "execute_result"
    }
   ],
   "source": [
    "# Save the query results as a Pandas DataFrame\n",
    "tobs_df = pd.DataFrame(temp_12mo, columns =['station', 'tobs'])\n",
    "tobs_df.head()"
   ]
  },
  {
   "cell_type": "code",
   "execution_count": 58,
   "metadata": {},
   "outputs": [
    {
     "data": {
      "image/png": "[encoded data removed]",
      "text/plain": [
       "<Figure size 432x288 with 1 Axes>"
      ]
     },
     "metadata": {},
     "output_type": "display_data"
    }
   ],
   "source": [
    "plt.hist(tobs_df['tobs'], bins=12)\n",
    "plt.ylabel('Frequency')\n",
    "blue_patch = mpatches.Patch(color='dodgerblue', label='tobs')\n",
    "plt.legend(handles=[blue_patch])\n",
    "plt.show()"
   ]
  },
  {
   "cell_type": "code",
   "execution_count": null,
   "metadata": {},
   "outputs": [],
   "source": []
  }
 ],
 "metadata": {
  "kernelspec": {
   "display_name": "Python 3",
   "language": "python",
   "name": "python3"
  },
  "language_info": {
   "codemirror_mode": {
    "name": "ipython",
    "version": 3
   },
   "file_extension": ".py",
   "mimetype": "text/x-python",
   "name": "python",
   "nbconvert_exporter": "python",
   "pygments_lexer": "ipython3",
   "version": "3.7.3"
  }
 },
 "nbformat": 4,
 "nbformat_minor": 2
}
