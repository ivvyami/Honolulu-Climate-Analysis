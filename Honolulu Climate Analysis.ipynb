{
 "cells": [
  {
   "cell_type": "code",
   "execution_count": 1,
   "metadata": {},
   "outputs": [],
   "source": [
    " %matplotlib inline\n",
    "from matplotlib import style\n",
    "style.use('fivethirtyeight')\n",
    "import matplotlib.pyplot as plt\n",
    "import matplotlib.patches as mpatches\n",
    "from matplotlib import style"
   ]
  },
  {
   "cell_type": "markdown",
   "metadata": {},
   "source": [
    "## Import Dependencies"
   ]
  },
  {
   "cell_type": "code",
   "execution_count": 2,
   "metadata": {},
   "outputs": [],
   "source": [
    "# Pandas\n",
    "import pandas as pd\n",
    "# Numpy\n",
    "import numpy as np\n",
    "# Datetime\n",
    "import datetime as dt\n",
    "\n",
    "# SQL Alchemy\n",
    "import sqlalchemy\n",
    "from sqlalchemy.ext.automap import automap_base\n",
    "from sqlalchemy.orm import Session\n",
    "from sqlalchemy import create_engine, inspect, func"
   ]
  },
  {
   "cell_type": "code",
   "execution_count": 3,
   "metadata": {},
   "outputs": [],
   "source": [
    "#create enginge for the 'hawaii.sqlite' database\n",
    "engine = create_engine(\"sqlite:///Resources/hawaii.sqlite\", echo = False)"
   ]
  },
  {
   "cell_type": "markdown",
   "metadata": {},
   "source": [
    "## These two things give me the same thing"
   ]
  },
  {
   "cell_type": "code",
   "execution_count": 4,
   "metadata": {},
   "outputs": [
    {
     "data": {
      "text/plain": [
       "[{'name': 'id',\n",
       "  'type': INTEGER(),\n",
       "  'nullable': False,\n",
       "  'default': None,\n",
       "  'autoincrement': 'auto',\n",
       "  'primary_key': 1},\n",
       " {'name': 'station',\n",
       "  'type': TEXT(),\n",
       "  'nullable': True,\n",
       "  'default': None,\n",
       "  'autoincrement': 'auto',\n",
       "  'primary_key': 0},\n",
       " {'name': 'date',\n",
       "  'type': TEXT(),\n",
       "  'nullable': True,\n",
       "  'default': None,\n",
       "  'autoincrement': 'auto',\n",
       "  'primary_key': 0},\n",
       " {'name': 'prcp',\n",
       "  'type': FLOAT(),\n",
       "  'nullable': True,\n",
       "  'default': None,\n",
       "  'autoincrement': 'auto',\n",
       "  'primary_key': 0},\n",
       " {'name': 'tobs',\n",
       "  'type': FLOAT(),\n",
       "  'nullable': True,\n",
       "  'default': None,\n",
       "  'autoincrement': 'auto',\n",
       "  'primary_key': 0}]"
      ]
     },
     "execution_count": 4,
     "metadata": {},
     "output_type": "execute_result"
    }
   ],
   "source": [
    "#Use inspector to explore the database and print the table names \n",
    "inspector = inspect(engine)\n",
    "inspector.get_table_names()\n",
    "inspector.get_columns('measurement')"
   ]
  },
  {
   "cell_type": "code",
   "execution_count": 5,
   "metadata": {},
   "outputs": [],
   "source": [
    " # reflect an existing database into a new model\n",
    "Base = automap_base()\n",
    "# reflect the tables\n",
    "Base.prepare(engine, reflect=True)"
   ]
  },
  {
   "cell_type": "code",
   "execution_count": 6,
   "metadata": {},
   "outputs": [
    {
     "data": {
      "text/plain": [
       "['measurement', 'station']"
      ]
     },
     "execution_count": 6,
     "metadata": {},
     "output_type": "execute_result"
    }
   ],
   "source": [
    "Base.classes.keys()"
   ]
  },
  {
   "cell_type": "markdown",
   "metadata": {},
   "source": [
    "## Reflect Tables into SQLAlchemy ORM"
   ]
  },
  {
   "cell_type": "code",
   "execution_count": 7,
   "metadata": {},
   "outputs": [],
   "source": [
    "# Save references to each table\n",
    "Measurement = Base.classes.measurement\n",
    "Station = Base.classes.station"
   ]
  },
  {
   "cell_type": "code",
   "execution_count": 8,
   "metadata": {},
   "outputs": [],
   "source": [
    "# Create our session (link) from Python to the DB\n",
    "session = Session(engine)"
   ]
  },
  {
   "cell_type": "markdown",
   "metadata": {},
   "source": [
    "## Query percipitation data for the last 12 months"
   ]
  },
  {
   "cell_type": "code",
   "execution_count": 9,
   "metadata": {},
   "outputs": [
    {
     "name": "stdout",
     "output_type": "stream",
     "text": [
      "[('2016-08-23', 1.79), ('2016-08-24', 2.28), ('2016-08-25', 0.21), ('2016-08-26', 0.04), ('2016-08-27', 0.18), ('2016-08-28', 2.07), ('2016-08-29', 0.9), ('2016-08-30', 0.05), ('2016-08-31', 2.46), ('2016-09-01', 0.02), ('2016-09-02', 0.19), ('2016-09-03', 1.0), ('2016-09-04', 0.74), ('2016-09-05', 0.18), ('2016-09-06', 1.0), ('2016-09-07', 1.35), ('2016-09-08', 0.22), ('2016-09-09', 0.35), ('2016-09-10', 1.16), ('2016-09-11', 0.6), ('2016-09-12', 1.04), ('2016-09-13', 1.2), ('2016-09-14', 6.7), ('2016-09-15', 3.35), ('2016-09-16', 0.61), ('2016-09-17', 0.36), ('2016-09-18', 0.42), ('2016-09-19', 0.25), ('2016-09-20', 0.43), ('2016-09-21', 1.02), ('2016-09-22', 0.75), ('2016-09-23', 0.94), ('2016-09-24', 0.27), ('2016-09-25', 0.04), ('2016-09-26', 1.02), ('2016-09-27', 1.0), ('2016-09-28', 0.08), ('2016-09-29', 1.49), ('2016-09-30', 0.38), ('2016-10-01', 1.02), ('2016-10-02', 0.61), ('2016-10-03', 0.46), ('2016-10-04', 3.46), ('2016-10-05', 0.81), ('2016-10-06', 0.07), ('2016-10-07', 0.01), ('2016-10-08', 0.04), ('2016-10-09', 0.0), ('2016-10-10', 0.0), ('2016-10-11', 0.35), ('2016-10-12', 0.03), ('2016-10-13', 0.06), ('2016-10-14', 0.0), ('2016-10-15', 0.33), ('2016-10-16', 0.0), ('2016-10-17', 0.38), ('2016-10-18', 0.48), ('2016-10-19', 0.11), ('2016-10-20', 1.0), ('2016-10-21', 0.15), ('2016-10-22', 1.37), ('2016-10-23', 0.24), ('2016-10-24', 0.7), ('2016-10-25', 0.4), ('2016-10-26', 0.2), ('2016-10-27', 1.25), ('2016-10-28', 0.37), ('2016-10-29', 0.26), ('2016-10-30', 0.95), ('2016-10-31', 1.35), ('2016-11-01', 0.1), ('2016-11-02', 0.04), ('2016-11-03', 0.02), ('2016-11-04', 0.06), ('2016-11-05', 0.38), ('2016-11-06', 0.05), ('2016-11-07', 0.13), ('2016-11-08', 0.53), ('2016-11-09', 0.17), ('2016-11-10', 0.01), ('2016-11-11', 0.0), ('2016-11-12', 0.0), ('2016-11-13', 0.0), ('2016-11-14', 0.06), ('2016-11-15', 0.05), ('2016-11-16', 0.91), ('2016-11-17', 0.03), ('2016-11-18', 0.02), ('2016-11-19', 0.13), ('2016-11-20', 0.4), ('2016-11-21', 2.87), ('2016-11-22', 2.11), ('2016-11-23', 0.25), ('2016-11-24', 0.72), ('2016-11-25', 1.03), ('2016-11-26', 0.3), ('2016-11-27', 0.29), ('2016-11-28', 0.69), ('2016-11-29', 0.2), ('2016-11-30', 0.79), ('2016-12-01', 0.72), ('2016-12-02', 1.27), ('2016-12-03', 1.62), ('2016-12-04', 0.32), ('2016-12-05', 1.6), ('2016-12-06', 0.02), ('2016-12-07', 0.17), ('2016-12-08', 0.27), ('2016-12-09', 0.52), ('2016-12-10', 0.05), ('2016-12-11', 0.13), ('2016-12-12', 0.02), ('2016-12-13', 0.34), ('2016-12-14', 0.92), ('2016-12-15', 0.14), ('2016-12-16', 0.03), ('2016-12-17', 0.16), ('2016-12-18', 0.29), ('2016-12-19', 0.21), ('2016-12-20', 0.02), ('2016-12-21', 0.55), ('2016-12-22', 1.24), ('2016-12-23', 0.83), ('2016-12-24', 1.08), ('2016-12-25', 0.38), ('2016-12-26', 1.48), ('2016-12-27', 0.14), ('2016-12-28', 0.14), ('2016-12-29', 1.03), ('2016-12-30', 2.37), ('2016-12-31', 0.9), ('2017-01-01', 0.29), ('2017-01-02', 0.01), ('2017-01-03', 0.0), ('2017-01-04', 0.18), ('2017-01-05', 0.47), ('2017-01-06', 0.59), ('2017-01-07', 0.06), ('2017-01-08', 0.03), ('2017-01-09', 0.0), ('2017-01-10', 0.0), ('2017-01-11', 0.0), ('2017-01-12', 0.0), ('2017-01-13', 0.0), ('2017-01-14', 0.01), ('2017-01-15', 0.01), ('2017-01-16', 0.0), ('2017-01-17', 0.0), ('2017-01-18', 0.07), ('2017-01-19', 0.02), ('2017-01-20', 0.0), ('2017-01-21', 0.11), ('2017-01-22', 0.72), ('2017-01-23', 0.85), ('2017-01-24', 1.85), ('2017-01-25', 2.64), ('2017-01-26', 0.1), ('2017-01-27', 0.03), ('2017-01-28', 0.14), ('2017-01-29', 0.55), ('2017-01-30', 0.05), ('2017-01-31', 0.0), ('2017-02-01', 0.0), ('2017-02-02', 0.0), ('2017-02-03', 0.0), ('2017-02-04', 0.0), ('2017-02-05', 0.0), ('2017-02-06', 0.18), ('2017-02-07', 1.8), ('2017-02-08', 1.08), ('2017-02-09', 0.02), ('2017-02-10', 0.0), ('2017-02-11', 5.04), ('2017-02-12', 2.98), ('2017-02-13', 2.9), ('2017-02-14', 0.01), ('2017-02-15', 0.07), ('2017-02-16', 0.73), ('2017-02-17', 0.8), ('2017-02-18', 0.01), ('2017-02-19', 0.1), ('2017-02-20', 0.0), ('2017-02-21', 0.07), ('2017-02-22', 0.32), ('2017-02-23', 0.01), ('2017-02-24', 0.0), ('2017-02-25', 0.12), ('2017-02-26', 0.0), ('2017-02-27', 0.0), ('2017-02-28', 0.58), ('2017-03-01', 2.4), ('2017-03-02', 1.88), ('2017-03-03', 0.56), ('2017-03-04', 0.0), ('2017-03-05', 0.41), ('2017-03-06', 0.51), ('2017-03-07', 0.0), ('2017-03-08', 0.0), ('2017-03-09', 0.8), ('2017-03-10', 0.13), ('2017-03-11', 0.03), ('2017-03-12', 0.0), ('2017-03-13', 0.0), ('2017-03-14', 0.06), ('2017-03-15', 0.06), ('2017-03-16', 0.0), ('2017-03-17', 0.35), ('2017-03-18', 0.0), ('2017-03-19', 0.0), ('2017-03-20', 0.02), ('2017-03-21', 0.09), ('2017-03-22', 0.0), ('2017-03-23', 0.03), ('2017-03-24', 0.6), ('2017-03-25', 0.93), ('2017-03-26', 0.0), ('2017-03-27', 0.01), ('2017-03-28', 0.68), ('2017-03-29', 0.08), ('2017-03-30', 0.08), ('2017-03-31', 0.01), ('2017-04-01', 0.21), ('2017-04-02', 0.0), ('2017-04-03', 0.26), ('2017-04-04', 0.09), ('2017-04-05', 0.45), ('2017-04-06', 0.06), ('2017-04-07', 0.0), ('2017-04-08', 0.0), ('2017-04-09', 0.0), ('2017-04-10', 0.01), ('2017-04-11', 0.25), ('2017-04-12', 0.65), ('2017-04-13', 0.59), ('2017-04-14', 2.82), ('2017-04-15', 0.9), ('2017-04-16', 0.49), ('2017-04-17', 1.3), ('2017-04-18', 2.03), ('2017-04-19', 0.14), ('2017-04-20', 0.35), ('2017-04-21', 2.36), ('2017-04-22', 1.58), ('2017-04-23', 0.35), ('2017-04-24', 0.05), ('2017-04-25', 0.0), ('2017-04-26', 0.22), ('2017-04-27', 0.19), ('2017-04-28', 2.6), ('2017-04-29', 6.25), ('2017-04-30', 1.31), ('2017-05-01', 0.26), ('2017-05-02', 0.03), ('2017-05-03', 0.01), ('2017-05-04', 0.08), ('2017-05-05', 0.28), ('2017-05-06', 0.06), ('2017-05-07', 0.07), ('2017-05-08', 1.11), ('2017-05-09', 1.62), ('2017-05-10', 0.55), ('2017-05-11', 0.44), ('2017-05-12', 0.1), ('2017-05-13', 0.12), ('2017-05-14', 1.0), ('2017-05-15', 0.6), ('2017-05-16', 0.3), ('2017-05-17', 0.07), ('2017-05-18', 0.46), ('2017-05-19', 0.02), ('2017-05-20', 0.02), ('2017-05-21', 0.01), ('2017-05-22', 0.3), ('2017-05-23', 0.44), ('2017-05-24', 2.17), ('2017-05-25', 0.88), ('2017-05-26', 0.02), ('2017-05-27', 0.5), ('2017-05-28', 0.29), ('2017-05-29', 0.4), ('2017-05-30', 1.12), ('2017-05-31', 0.25), ('2017-06-01', 0.03), ('2017-06-02', 0.15), ('2017-06-03', 0.2), ('2017-06-04', 0.82), ('2017-06-05', 0.05), ('2017-06-06', 0.0), ('2017-06-07', 0.01), ('2017-06-08', 0.02), ('2017-06-09', 0.02), ('2017-06-10', 0.62), ('2017-06-11', 0.74), ('2017-06-12', 0.81), ('2017-06-13', 0.65), ('2017-06-14', 0.81), ('2017-06-15', 1.69), ('2017-06-16', 0.1), ('2017-06-17', 0.35), ('2017-06-18', 0.7), ('2017-06-19', 0.4), ('2017-06-20', 0.31), ('2017-06-21', 0.3), ('2017-06-22', 0.28), ('2017-06-23', 0.5), ('2017-06-24', 0.36), ('2017-06-25', 0.5), ('2017-06-26', 0.06), ('2017-06-27', 0.1), ('2017-06-28', 0.02), ('2017-06-29', 0.04), ('2017-06-30', 0.2), ('2017-07-01', 0.1), ('2017-07-02', 0.5), ('2017-07-03', 0.4), ('2017-07-04', 0.08), ('2017-07-05', 0.0), ('2017-07-06', 0.02), ('2017-07-07', 0.3), ('2017-07-08', 0.06), ('2017-07-09', 0.11), ('2017-07-10', 0.02), ('2017-07-11', 0.02), ('2017-07-12', 0.28), ('2017-07-13', 0.68), ('2017-07-14', 0.68), ('2017-07-15', 0.1), ('2017-07-16', 0.5), ('2017-07-17', 0.39), ('2017-07-18', 2.4), ('2017-07-19', 0.27), ('2017-07-20', 0.7), ('2017-07-21', 0.1), ('2017-07-22', 4.0), ('2017-07-23', 0.8), ('2017-07-24', 1.19), ('2017-07-25', 0.3), ('2017-07-26', 0.3), ('2017-07-27', 0.01), ('2017-07-28', 0.4), ('2017-07-29', 0.3), ('2017-07-30', 0.3), ('2017-07-31', 0.0), ('2017-08-01', 0.12), ('2017-08-02', 0.25), ('2017-08-03', 0.06), ('2017-08-04', 0.04), ('2017-08-05', 0.06), ('2017-08-06', 0.0), ('2017-08-07', 0.05), ('2017-08-08', 0.34), ('2017-08-09', 0.15), ('2017-08-10', 0.07), ('2017-08-11', 0.0), ('2017-08-12', 0.14), ('2017-08-13', 0.0), ('2017-08-14', 0.22), ('2017-08-15', 0.42), ('2017-08-16', 0.42), ('2017-08-17', 0.13), ('2017-08-18', 0.06), ('2017-08-19', 0.09), ('2017-08-20', 0.01), ('2017-08-21', 0.56), ('2017-08-22', 0.5), ('2017-08-23', 0.45)]\n"
     ]
    }
   ],
   "source": [
    "# Design a query to retrieve the last 12 months of precipitation data and plot the results\n",
    "# Calculate the date 1 year ago from the last data point in the database\n",
    "# Perform a query to retrieve the data and precipitation scores\n",
    "# Sort the dataframe by date\n",
    "sel = [Measurement.date, func.max(Measurement.prcp)]\n",
    "past_12mo = session.query(*sel).filter(Measurement.date.between('2016-08-23', '2017-08-23')).group_by(Measurement.date).\\\n",
    "    order_by(Measurement.date).all()\n",
    "print(past_12mo)"
   ]
  },
  {
   "cell_type": "code",
   "execution_count": 10,
   "metadata": {},
   "outputs": [],
   "source": [
    "# Save the query results as a Pandas DataFrame and set the index to the date column\n",
    "prcp_df = pd.DataFrame(past_12mo, columns =['date', 'percipitation'])\n",
    "prcp_df.set_index('date', inplace = True)\n"
   ]
  },
  {
   "cell_type": "code",
   "execution_count": 11,
   "metadata": {},
   "outputs": [
    {
     "data": {
      "text/html": [
       "<div>\n",
       "<style scoped>\n",
       "    .dataframe tbody tr th:only-of-type {\n",
       "        vertical-align: middle;\n",
       "    }\n",
       "\n",
       "    .dataframe tbody tr th {\n",
       "        vertical-align: top;\n",
       "    }\n",
       "\n",
       "    .dataframe thead th {\n",
       "        text-align: right;\n",
       "    }\n",
       "</style>\n",
       "<table border=\"1\" class=\"dataframe\">\n",
       "  <thead>\n",
       "    <tr style=\"text-align: right;\">\n",
       "      <th></th>\n",
       "      <th>percipitation</th>\n",
       "    </tr>\n",
       "    <tr>\n",
       "      <th>date</th>\n",
       "      <th></th>\n",
       "    </tr>\n",
       "  </thead>\n",
       "  <tbody>\n",
       "    <tr>\n",
       "      <th>2016-08-23</th>\n",
       "      <td>1.79</td>\n",
       "    </tr>\n",
       "    <tr>\n",
       "      <th>2016-08-24</th>\n",
       "      <td>2.28</td>\n",
       "    </tr>\n",
       "    <tr>\n",
       "      <th>2016-08-25</th>\n",
       "      <td>0.21</td>\n",
       "    </tr>\n",
       "    <tr>\n",
       "      <th>2016-08-26</th>\n",
       "      <td>0.04</td>\n",
       "    </tr>\n",
       "    <tr>\n",
       "      <th>2016-08-27</th>\n",
       "      <td>0.18</td>\n",
       "    </tr>\n",
       "    <tr>\n",
       "      <th>2016-08-28</th>\n",
       "      <td>2.07</td>\n",
       "    </tr>\n",
       "    <tr>\n",
       "      <th>2016-08-29</th>\n",
       "      <td>0.90</td>\n",
       "    </tr>\n",
       "    <tr>\n",
       "      <th>2016-08-30</th>\n",
       "      <td>0.05</td>\n",
       "    </tr>\n",
       "    <tr>\n",
       "      <th>2016-08-31</th>\n",
       "      <td>2.46</td>\n",
       "    </tr>\n",
       "    <tr>\n",
       "      <th>2016-09-01</th>\n",
       "      <td>0.02</td>\n",
       "    </tr>\n",
       "    <tr>\n",
       "      <th>2016-09-02</th>\n",
       "      <td>0.19</td>\n",
       "    </tr>\n",
       "    <tr>\n",
       "      <th>2016-09-03</th>\n",
       "      <td>1.00</td>\n",
       "    </tr>\n",
       "    <tr>\n",
       "      <th>2016-09-04</th>\n",
       "      <td>0.74</td>\n",
       "    </tr>\n",
       "    <tr>\n",
       "      <th>2016-09-05</th>\n",
       "      <td>0.18</td>\n",
       "    </tr>\n",
       "    <tr>\n",
       "      <th>2016-09-06</th>\n",
       "      <td>1.00</td>\n",
       "    </tr>\n",
       "    <tr>\n",
       "      <th>2016-09-07</th>\n",
       "      <td>1.35</td>\n",
       "    </tr>\n",
       "    <tr>\n",
       "      <th>2016-09-08</th>\n",
       "      <td>0.22</td>\n",
       "    </tr>\n",
       "    <tr>\n",
       "      <th>2016-09-09</th>\n",
       "      <td>0.35</td>\n",
       "    </tr>\n",
       "    <tr>\n",
       "      <th>2016-09-10</th>\n",
       "      <td>1.16</td>\n",
       "    </tr>\n",
       "    <tr>\n",
       "      <th>2016-09-11</th>\n",
       "      <td>0.60</td>\n",
       "    </tr>\n",
       "    <tr>\n",
       "      <th>2016-09-12</th>\n",
       "      <td>1.04</td>\n",
       "    </tr>\n",
       "    <tr>\n",
       "      <th>2016-09-13</th>\n",
       "      <td>1.20</td>\n",
       "    </tr>\n",
       "    <tr>\n",
       "      <th>2016-09-14</th>\n",
       "      <td>6.70</td>\n",
       "    </tr>\n",
       "    <tr>\n",
       "      <th>2016-09-15</th>\n",
       "      <td>3.35</td>\n",
       "    </tr>\n",
       "    <tr>\n",
       "      <th>2016-09-16</th>\n",
       "      <td>0.61</td>\n",
       "    </tr>\n",
       "    <tr>\n",
       "      <th>2016-09-17</th>\n",
       "      <td>0.36</td>\n",
       "    </tr>\n",
       "    <tr>\n",
       "      <th>2016-09-18</th>\n",
       "      <td>0.42</td>\n",
       "    </tr>\n",
       "    <tr>\n",
       "      <th>2016-09-19</th>\n",
       "      <td>0.25</td>\n",
       "    </tr>\n",
       "    <tr>\n",
       "      <th>2016-09-20</th>\n",
       "      <td>0.43</td>\n",
       "    </tr>\n",
       "    <tr>\n",
       "      <th>2016-09-21</th>\n",
       "      <td>1.02</td>\n",
       "    </tr>\n",
       "    <tr>\n",
       "      <th>...</th>\n",
       "      <td>...</td>\n",
       "    </tr>\n",
       "    <tr>\n",
       "      <th>2017-07-25</th>\n",
       "      <td>0.30</td>\n",
       "    </tr>\n",
       "    <tr>\n",
       "      <th>2017-07-26</th>\n",
       "      <td>0.30</td>\n",
       "    </tr>\n",
       "    <tr>\n",
       "      <th>2017-07-27</th>\n",
       "      <td>0.01</td>\n",
       "    </tr>\n",
       "    <tr>\n",
       "      <th>2017-07-28</th>\n",
       "      <td>0.40</td>\n",
       "    </tr>\n",
       "    <tr>\n",
       "      <th>2017-07-29</th>\n",
       "      <td>0.30</td>\n",
       "    </tr>\n",
       "    <tr>\n",
       "      <th>2017-07-30</th>\n",
       "      <td>0.30</td>\n",
       "    </tr>\n",
       "    <tr>\n",
       "      <th>2017-07-31</th>\n",
       "      <td>0.00</td>\n",
       "    </tr>\n",
       "    <tr>\n",
       "      <th>2017-08-01</th>\n",
       "      <td>0.12</td>\n",
       "    </tr>\n",
       "    <tr>\n",
       "      <th>2017-08-02</th>\n",
       "      <td>0.25</td>\n",
       "    </tr>\n",
       "    <tr>\n",
       "      <th>2017-08-03</th>\n",
       "      <td>0.06</td>\n",
       "    </tr>\n",
       "    <tr>\n",
       "      <th>2017-08-04</th>\n",
       "      <td>0.04</td>\n",
       "    </tr>\n",
       "    <tr>\n",
       "      <th>2017-08-05</th>\n",
       "      <td>0.06</td>\n",
       "    </tr>\n",
       "    <tr>\n",
       "      <th>2017-08-06</th>\n",
       "      <td>0.00</td>\n",
       "    </tr>\n",
       "    <tr>\n",
       "      <th>2017-08-07</th>\n",
       "      <td>0.05</td>\n",
       "    </tr>\n",
       "    <tr>\n",
       "      <th>2017-08-08</th>\n",
       "      <td>0.34</td>\n",
       "    </tr>\n",
       "    <tr>\n",
       "      <th>2017-08-09</th>\n",
       "      <td>0.15</td>\n",
       "    </tr>\n",
       "    <tr>\n",
       "      <th>2017-08-10</th>\n",
       "      <td>0.07</td>\n",
       "    </tr>\n",
       "    <tr>\n",
       "      <th>2017-08-11</th>\n",
       "      <td>0.00</td>\n",
       "    </tr>\n",
       "    <tr>\n",
       "      <th>2017-08-12</th>\n",
       "      <td>0.14</td>\n",
       "    </tr>\n",
       "    <tr>\n",
       "      <th>2017-08-13</th>\n",
       "      <td>0.00</td>\n",
       "    </tr>\n",
       "    <tr>\n",
       "      <th>2017-08-14</th>\n",
       "      <td>0.22</td>\n",
       "    </tr>\n",
       "    <tr>\n",
       "      <th>2017-08-15</th>\n",
       "      <td>0.42</td>\n",
       "    </tr>\n",
       "    <tr>\n",
       "      <th>2017-08-16</th>\n",
       "      <td>0.42</td>\n",
       "    </tr>\n",
       "    <tr>\n",
       "      <th>2017-08-17</th>\n",
       "      <td>0.13</td>\n",
       "    </tr>\n",
       "    <tr>\n",
       "      <th>2017-08-18</th>\n",
       "      <td>0.06</td>\n",
       "    </tr>\n",
       "    <tr>\n",
       "      <th>2017-08-19</th>\n",
       "      <td>0.09</td>\n",
       "    </tr>\n",
       "    <tr>\n",
       "      <th>2017-08-20</th>\n",
       "      <td>0.01</td>\n",
       "    </tr>\n",
       "    <tr>\n",
       "      <th>2017-08-21</th>\n",
       "      <td>0.56</td>\n",
       "    </tr>\n",
       "    <tr>\n",
       "      <th>2017-08-22</th>\n",
       "      <td>0.50</td>\n",
       "    </tr>\n",
       "    <tr>\n",
       "      <th>2017-08-23</th>\n",
       "      <td>0.45</td>\n",
       "    </tr>\n",
       "  </tbody>\n",
       "</table>\n",
       "<p>366 rows × 1 columns</p>\n",
       "</div>"
      ],
      "text/plain": [
       "            percipitation\n",
       "date                     \n",
       "2016-08-23           1.79\n",
       "2016-08-24           2.28\n",
       "2016-08-25           0.21\n",
       "2016-08-26           0.04\n",
       "2016-08-27           0.18\n",
       "2016-08-28           2.07\n",
       "2016-08-29           0.90\n",
       "2016-08-30           0.05\n",
       "2016-08-31           2.46\n",
       "2016-09-01           0.02\n",
       "2016-09-02           0.19\n",
       "2016-09-03           1.00\n",
       "2016-09-04           0.74\n",
       "2016-09-05           0.18\n",
       "2016-09-06           1.00\n",
       "2016-09-07           1.35\n",
       "2016-09-08           0.22\n",
       "2016-09-09           0.35\n",
       "2016-09-10           1.16\n",
       "2016-09-11           0.60\n",
       "2016-09-12           1.04\n",
       "2016-09-13           1.20\n",
       "2016-09-14           6.70\n",
       "2016-09-15           3.35\n",
       "2016-09-16           0.61\n",
       "2016-09-17           0.36\n",
       "2016-09-18           0.42\n",
       "2016-09-19           0.25\n",
       "2016-09-20           0.43\n",
       "2016-09-21           1.02\n",
       "...                   ...\n",
       "2017-07-25           0.30\n",
       "2017-07-26           0.30\n",
       "2017-07-27           0.01\n",
       "2017-07-28           0.40\n",
       "2017-07-29           0.30\n",
       "2017-07-30           0.30\n",
       "2017-07-31           0.00\n",
       "2017-08-01           0.12\n",
       "2017-08-02           0.25\n",
       "2017-08-03           0.06\n",
       "2017-08-04           0.04\n",
       "2017-08-05           0.06\n",
       "2017-08-06           0.00\n",
       "2017-08-07           0.05\n",
       "2017-08-08           0.34\n",
       "2017-08-09           0.15\n",
       "2017-08-10           0.07\n",
       "2017-08-11           0.00\n",
       "2017-08-12           0.14\n",
       "2017-08-13           0.00\n",
       "2017-08-14           0.22\n",
       "2017-08-15           0.42\n",
       "2017-08-16           0.42\n",
       "2017-08-17           0.13\n",
       "2017-08-18           0.06\n",
       "2017-08-19           0.09\n",
       "2017-08-20           0.01\n",
       "2017-08-21           0.56\n",
       "2017-08-22           0.50\n",
       "2017-08-23           0.45\n",
       "\n",
       "[366 rows x 1 columns]"
      ]
     },
     "execution_count": 11,
     "metadata": {},
     "output_type": "execute_result"
    }
   ],
   "source": [
    "#look at it\n",
    "prcp_df"
   ]
  },
  {
   "cell_type": "markdown",
   "metadata": {},
   "source": [
    "## Exploratory Climate Analysis"
   ]
  },
  {
   "cell_type": "code",
   "execution_count": 12,
   "metadata": {},
   "outputs": [],
   "source": [
    "style.use('fivethirtyeight')"
   ]
  },
  {
   "cell_type": "code",
   "execution_count": 13,
   "metadata": {},
   "outputs": [
    {
     "data": {
      "image/png": "[encoded data removed]",
      "text/plain": [
       "<Figure size 432x288 with 1 Axes>"
      ]
     },
     "metadata": {},
     "output_type": "display_data"
    },
    {
     "data": {
      "text/plain": [
       "<Figure size 432x288 with 0 Axes>"
      ]
     },
     "metadata": {},
     "output_type": "display_data"
    }
   ],
   "source": [
    "# Use Pandas Plotting with Matplotlib to plot the data\n",
    "prcp_df.plot.bar()\n",
    "plt.tight_layout()\n",
    "plt.xticks([])\n",
    "plt.show()\n",
    "plt.savefig(\"date_percip\")\n",
    "\n",
    "# this is a weird looking graph!"
   ]
  },
  {
   "cell_type": "code",
   "execution_count": 14,
   "metadata": {},
   "outputs": [
    {
     "data": {
      "text/html": [
       "<div>\n",
       "<style scoped>\n",
       "    .dataframe tbody tr th:only-of-type {\n",
       "        vertical-align: middle;\n",
       "    }\n",
       "\n",
       "    .dataframe tbody tr th {\n",
       "        vertical-align: top;\n",
       "    }\n",
       "\n",
       "    .dataframe thead th {\n",
       "        text-align: right;\n",
       "    }\n",
       "</style>\n",
       "<table border=\"1\" class=\"dataframe\">\n",
       "  <thead>\n",
       "    <tr style=\"text-align: right;\">\n",
       "      <th></th>\n",
       "      <th>percipitation</th>\n",
       "    </tr>\n",
       "  </thead>\n",
       "  <tbody>\n",
       "    <tr>\n",
       "      <th>count</th>\n",
       "      <td>366.000000</td>\n",
       "    </tr>\n",
       "    <tr>\n",
       "      <th>mean</th>\n",
       "      <td>0.520765</td>\n",
       "    </tr>\n",
       "    <tr>\n",
       "      <th>std</th>\n",
       "      <td>0.830728</td>\n",
       "    </tr>\n",
       "    <tr>\n",
       "      <th>min</th>\n",
       "      <td>0.000000</td>\n",
       "    </tr>\n",
       "    <tr>\n",
       "      <th>25%</th>\n",
       "      <td>0.040000</td>\n",
       "    </tr>\n",
       "    <tr>\n",
       "      <th>50%</th>\n",
       "      <td>0.250000</td>\n",
       "    </tr>\n",
       "    <tr>\n",
       "      <th>75%</th>\n",
       "      <td>0.672500</td>\n",
       "    </tr>\n",
       "    <tr>\n",
       "      <th>max</th>\n",
       "      <td>6.700000</td>\n",
       "    </tr>\n",
       "  </tbody>\n",
       "</table>\n",
       "</div>"
      ],
      "text/plain": [
       "       percipitation\n",
       "count     366.000000\n",
       "mean        0.520765\n",
       "std         0.830728\n",
       "min         0.000000\n",
       "25%         0.040000\n",
       "50%         0.250000\n",
       "75%         0.672500\n",
       "max         6.700000"
      ]
     },
     "execution_count": 14,
     "metadata": {},
     "output_type": "execute_result"
    }
   ],
   "source": [
    "# Use Pandas to calcualte the summary statistics for the precipitation data \n",
    "prcp_df.describe()"
   ]
  },
  {
   "cell_type": "code",
   "execution_count": 15,
   "metadata": {
    "scrolled": true
   },
   "outputs": [
    {
     "data": {
      "text/plain": [
       "[{'name': 'id',\n",
       "  'type': INTEGER(),\n",
       "  'nullable': False,\n",
       "  'default': None,\n",
       "  'autoincrement': 'auto',\n",
       "  'primary_key': 1},\n",
       " {'name': 'station',\n",
       "  'type': TEXT(),\n",
       "  'nullable': True,\n",
       "  'default': None,\n",
       "  'autoincrement': 'auto',\n",
       "  'primary_key': 0},\n",
       " {'name': 'name',\n",
       "  'type': TEXT(),\n",
       "  'nullable': True,\n",
       "  'default': None,\n",
       "  'autoincrement': 'auto',\n",
       "  'primary_key': 0},\n",
       " {'name': 'latitude',\n",
       "  'type': FLOAT(),\n",
       "  'nullable': True,\n",
       "  'default': None,\n",
       "  'autoincrement': 'auto',\n",
       "  'primary_key': 0},\n",
       " {'name': 'longitude',\n",
       "  'type': FLOAT(),\n",
       "  'nullable': True,\n",
       "  'default': None,\n",
       "  'autoincrement': 'auto',\n",
       "  'primary_key': 0},\n",
       " {'name': 'elevation',\n",
       "  'type': FLOAT(),\n",
       "  'nullable': True,\n",
       "  'default': None,\n",
       "  'autoincrement': 'auto',\n",
       "  'primary_key': 0}]"
      ]
     },
     "execution_count": 15,
     "metadata": {},
     "output_type": "execute_result"
    }
   ],
   "source": [
    "# Design a query to show how many stations are available in this dataset?\n",
    "inspector = inspect(engine)\n",
    "inspector.get_table_names()\n",
    "inspector.get_columns('station')\n"
   ]
  },
  {
   "cell_type": "markdown",
   "metadata": {},
   "source": [
    "## Station Analysis"
   ]
  },
  {
   "cell_type": "code",
   "execution_count": 16,
   "metadata": {},
   "outputs": [
    {
     "data": {
      "text/plain": [
       "9"
      ]
     },
     "execution_count": 16,
     "metadata": {},
     "output_type": "execute_result"
    }
   ],
   "source": [
    "# Design a query to show how many stations are available in this dataset?\n",
    "stations = session.query(Station.station).count()\n",
    "stations"
   ]
  },
  {
   "cell_type": "code",
   "execution_count": 17,
   "metadata": {},
   "outputs": [
    {
     "data": {
      "text/plain": [
       "[('USC00519281', 2772),\n",
       " ('USC00519397', 2724),\n",
       " ('USC00513117', 2709),\n",
       " ('USC00519523', 2669),\n",
       " ('USC00516128', 2612),\n",
       " ('USC00514830', 2202),\n",
       " ('USC00511918', 1979),\n",
       " ('USC00517948', 1372),\n",
       " ('USC00518838', 511)]"
      ]
     },
     "execution_count": 17,
     "metadata": {},
     "output_type": "execute_result"
    }
   ],
   "source": [
    " # What are the most active stations? (i.e. what stations have the most rows)?\n",
    "# List the stations and the counts in descending order.\n",
    "sel = [Measurement.station, \n",
    "      func.count(Measurement.station)]\n",
    "\n",
    "station_max = session.query(*sel).group_by(Measurement.station).\\\n",
    "    order_by(func.count(Measurement.station).desc()).all()\n",
    "\n",
    "station_max"
   ]
  },
  {
   "cell_type": "code",
   "execution_count": 18,
   "metadata": {},
   "outputs": [
    {
     "data": {
      "text/plain": [
       "[(54.0, 85.0, 54.0, 71.66378066378067)]"
      ]
     },
     "execution_count": 18,
     "metadata": {},
     "output_type": "execute_result"
    }
   ],
   "source": [
    " # Using the station id from the previous query, calculate the lowest temperature recorded, \n",
    "# highest temperature recorded, and average temperature most active station?\n",
    "\n",
    "sel = [Measurement.tobs,\n",
    "      func.max(Measurement.tobs),\n",
    "      func.min(Measurement.tobs),\n",
    "      func.avg(Measurement.tobs)]\n",
    "\n",
    "station_temp = session.query(*sel).filter(Measurement.station == 'USC00519281').\\\n",
    "    all()\n",
    "\n",
    "station_temp"
   ]
  },
  {
   "cell_type": "markdown",
   "metadata": {},
   "source": [
    "## Get the temperature for the past 12 months for the station with the highest observations"
   ]
  },
  {
   "cell_type": "code",
   "execution_count": 19,
   "metadata": {},
   "outputs": [
    {
     "name": "stdout",
     "output_type": "stream",
     "text": [
      "[('USC00519281', 77.0), ('USC00519281', 77.0), ('USC00519281', 80.0), ('USC00519281', 80.0), ('USC00519281', 75.0), ('USC00519281', 73.0), ('USC00519281', 78.0), ('USC00519281', 77.0), ('USC00519281', 78.0), ('USC00519281', 80.0), ('USC00519281', 80.0), ('USC00519281', 78.0), ('USC00519281', 78.0), ('USC00519281', 78.0), ('USC00519281', 73.0), ('USC00519281', 74.0), ('USC00519281', 80.0), ('USC00519281', 79.0), ('USC00519281', 77.0), ('USC00519281', 80.0), ('USC00519281', 76.0), ('USC00519281', 79.0), ('USC00519281', 75.0), ('USC00519281', 79.0), ('USC00519281', 78.0), ('USC00519281', 79.0), ('USC00519281', 78.0), ('USC00519281', 78.0), ('USC00519281', 76.0), ('USC00519281', 74.0), ('USC00519281', 77.0), ('USC00519281', 78.0), ('USC00519281', 79.0), ('USC00519281', 79.0), ('USC00519281', 77.0), ('USC00519281', 80.0), ('USC00519281', 78.0), ('USC00519281', 78.0), ('USC00519281', 78.0), ('USC00519281', 77.0), ('USC00519281', 79.0), ('USC00519281', 79.0), ('USC00519281', 79.0), ('USC00519281', 79.0), ('USC00519281', 75.0), ('USC00519281', 76.0), ('USC00519281', 73.0), ('USC00519281', 72.0), ('USC00519281', 71.0), ('USC00519281', 77.0), ('USC00519281', 79.0), ('USC00519281', 78.0), ('USC00519281', 79.0), ('USC00519281', 77.0), ('USC00519281', 79.0), ('USC00519281', 77.0), ('USC00519281', 78.0), ('USC00519281', 78.0), ('USC00519281', 78.0), ('USC00519281', 78.0), ('USC00519281', 77.0), ('USC00519281', 74.0), ('USC00519281', 75.0), ('USC00519281', 76.0), ('USC00519281', 73.0), ('USC00519281', 76.0), ('USC00519281', 74.0), ('USC00519281', 77.0), ('USC00519281', 76.0), ('USC00519281', 76.0), ('USC00519281', 74.0), ('USC00519281', 75.0), ('USC00519281', 75.0), ('USC00519281', 75.0), ('USC00519281', 75.0), ('USC00519281', 71.0), ('USC00519281', 63.0), ('USC00519281', 70.0), ('USC00519281', 68.0), ('USC00519281', 67.0), ('USC00519281', 77.0), ('USC00519281', 74.0), ('USC00519281', 77.0), ('USC00519281', 76.0), ('USC00519281', 76.0), ('USC00519281', 75.0), ('USC00519281', 76.0), ('USC00519281', 75.0), ('USC00519281', 73.0), ('USC00519281', 75.0), ('USC00519281', 73.0), ('USC00519281', 75.0), ('USC00519281', 74.0), ('USC00519281', 75.0), ('USC00519281', 74.0), ('USC00519281', 75.0), ('USC00519281', 73.0), ('USC00519281', 75.0), ('USC00519281', 73.0), ('USC00519281', 73.0), ('USC00519281', 74.0), ('USC00519281', 70.0), ('USC00519281', 72.0), ('USC00519281', 70.0), ('USC00519281', 67.0), ('USC00519281', 67.0), ('USC00519281', 69.0), ('USC00519281', 70.0), ('USC00519281', 68.0), ('USC00519281', 69.0), ('USC00519281', 69.0), ('USC00519281', 66.0), ('USC00519281', 65.0), ('USC00519281', 68.0), ('USC00519281', 62.0), ('USC00519281', 75.0), ('USC00519281', 70.0), ('USC00519281', 69.0), ('USC00519281', 76.0), ('USC00519281', 76.0), ('USC00519281', 74.0), ('USC00519281', 73.0), ('USC00519281', 71.0), ('USC00519281', 74.0), ('USC00519281', 74.0), ('USC00519281', 72.0), ('USC00519281', 71.0), ('USC00519281', 72.0), ('USC00519281', 74.0), ('USC00519281', 69.0), ('USC00519281', 67.0), ('USC00519281', 72.0), ('USC00519281', 70.0), ('USC00519281', 64.0), ('USC00519281', 63.0), ('USC00519281', 63.0), ('USC00519281', 62.0), ('USC00519281', 70.0), ('USC00519281', 70.0), ('USC00519281', 62.0), ('USC00519281', 62.0), ('USC00519281', 63.0), ('USC00519281', 65.0), ('USC00519281', 69.0), ('USC00519281', 77.0), ('USC00519281', 70.0), ('USC00519281', 74.0), ('USC00519281', 69.0), ('USC00519281', 72.0), ('USC00519281', 71.0), ('USC00519281', 69.0), ('USC00519281', 71.0), ('USC00519281', 71.0), ('USC00519281', 72.0), ('USC00519281', 72.0), ('USC00519281', 69.0), ('USC00519281', 70.0), ('USC00519281', 66.0), ('USC00519281', 65.0), ('USC00519281', 69.0), ('USC00519281', 68.0), ('USC00519281', 68.0), ('USC00519281', 68.0), ('USC00519281', 59.0), ('USC00519281', 60.0), ('USC00519281', 70.0), ('USC00519281', 73.0), ('USC00519281', 75.0), ('USC00519281', 64.0), ('USC00519281', 59.0), ('USC00519281', 59.0), ('USC00519281', 62.0), ('USC00519281', 68.0), ('USC00519281', 70.0), ('USC00519281', 73.0), ('USC00519281', 79.0), ('USC00519281', 75.0), ('USC00519281', 65.0), ('USC00519281', 70.0), ('USC00519281', 74.0), ('USC00519281', 70.0), ('USC00519281', 70.0), ('USC00519281', 71.0), ('USC00519281', 71.0), ('USC00519281', 71.0), ('USC00519281', 69.0), ('USC00519281', 61.0), ('USC00519281', 67.0), ('USC00519281', 65.0), ('USC00519281', 72.0), ('USC00519281', 71.0), ('USC00519281', 73.0), ('USC00519281', 72.0), ('USC00519281', 77.0), ('USC00519281', 73.0), ('USC00519281', 67.0), ('USC00519281', 62.0), ('USC00519281', 64.0), ('USC00519281', 67.0), ('USC00519281', 66.0), ('USC00519281', 81.0), ('USC00519281', 69.0), ('USC00519281', 66.0), ('USC00519281', 67.0), ('USC00519281', 69.0), ('USC00519281', 66.0), ('USC00519281', 68.0), ('USC00519281', 65.0), ('USC00519281', 74.0), ('USC00519281', 69.0), ('USC00519281', 72.0), ('USC00519281', 73.0), ('USC00519281', 72.0), ('USC00519281', 71.0), ('USC00519281', 76.0), ('USC00519281', 77.0), ('USC00519281', 76.0), ('USC00519281', 74.0), ('USC00519281', 68.0), ('USC00519281', 73.0), ('USC00519281', 71.0), ('USC00519281', 74.0), ('USC00519281', 75.0), ('USC00519281', 70.0), ('USC00519281', 67.0), ('USC00519281', 71.0), ('USC00519281', 67.0), ('USC00519281', 74.0), ('USC00519281', 77.0), ('USC00519281', 78.0), ('USC00519281', 67.0), ('USC00519281', 70.0), ('USC00519281', 69.0), ('USC00519281', 69.0), ('USC00519281', 74.0), ('USC00519281', 78.0), ('USC00519281', 71.0), ('USC00519281', 67.0), ('USC00519281', 68.0), ('USC00519281', 67.0), ('USC00519281', 76.0), ('USC00519281', 69.0), ('USC00519281', 72.0), ('USC00519281', 76.0), ('USC00519281', 68.0), ('USC00519281', 72.0), ('USC00519281', 74.0), ('USC00519281', 70.0), ('USC00519281', 67.0), ('USC00519281', 72.0), ('USC00519281', 60.0), ('USC00519281', 65.0), ('USC00519281', 75.0), ('USC00519281', 70.0), ('USC00519281', 75.0), ('USC00519281', 70.0), ('USC00519281', 79.0), ('USC00519281', 75.0), ('USC00519281', 70.0), ('USC00519281', 67.0), ('USC00519281', 74.0), ('USC00519281', 70.0), ('USC00519281', 75.0), ('USC00519281', 76.0), ('USC00519281', 77.0), ('USC00519281', 74.0), ('USC00519281', 74.0), ('USC00519281', 74.0), ('USC00519281', 69.0), ('USC00519281', 68.0), ('USC00519281', 76.0), ('USC00519281', 74.0), ('USC00519281', 71.0), ('USC00519281', 71.0), ('USC00519281', 74.0), ('USC00519281', 74.0), ('USC00519281', 74.0), ('USC00519281', 74.0), ('USC00519281', 80.0), ('USC00519281', 74.0), ('USC00519281', 72.0), ('USC00519281', 75.0), ('USC00519281', 80.0), ('USC00519281', 76.0), ('USC00519281', 76.0), ('USC00519281', 77.0), ('USC00519281', 75.0), ('USC00519281', 75.0), ('USC00519281', 75.0), ('USC00519281', 75.0), ('USC00519281', 72.0), ('USC00519281', 74.0), ('USC00519281', 74.0), ('USC00519281', 74.0), ('USC00519281', 76.0), ('USC00519281', 74.0), ('USC00519281', 75.0), ('USC00519281', 73.0), ('USC00519281', 79.0), ('USC00519281', 75.0), ('USC00519281', 72.0), ('USC00519281', 72.0), ('USC00519281', 74.0), ('USC00519281', 72.0), ('USC00519281', 72.0), ('USC00519281', 77.0), ('USC00519281', 71.0), ('USC00519281', 73.0), ('USC00519281', 76.0), ('USC00519281', 77.0), ('USC00519281', 76.0), ('USC00519281', 76.0), ('USC00519281', 79.0), ('USC00519281', 81.0), ('USC00519281', 76.0), ('USC00519281', 78.0), ('USC00519281', 77.0), ('USC00519281', 74.0), ('USC00519281', 75.0), ('USC00519281', 78.0), ('USC00519281', 78.0), ('USC00519281', 69.0), ('USC00519281', 72.0), ('USC00519281', 74.0), ('USC00519281', 74.0), ('USC00519281', 76.0), ('USC00519281', 80.0), ('USC00519281', 80.0), ('USC00519281', 76.0), ('USC00519281', 76.0), ('USC00519281', 76.0), ('USC00519281', 77.0), ('USC00519281', 77.0), ('USC00519281', 77.0), ('USC00519281', 82.0), ('USC00519281', 75.0), ('USC00519281', 77.0), ('USC00519281', 75.0), ('USC00519281', 76.0), ('USC00519281', 81.0), ('USC00519281', 82.0), ('USC00519281', 81.0), ('USC00519281', 76.0), ('USC00519281', 77.0), ('USC00519281', 82.0), ('USC00519281', 83.0), ('USC00519281', 77.0), ('USC00519281', 77.0), ('USC00519281', 77.0), ('USC00519281', 76.0), ('USC00519281', 76.0), ('USC00519281', 79.0)]\n"
     ]
    }
   ],
   "source": [
    "# Choose the station with the highest number of temperature observations.\n",
    "# Query the last 12 months of temperature observation data for this station and plot the results as a histogram\n",
    "\n",
    "sel = [Measurement.station,\n",
    "      Measurement.tobs]\n",
    "\n",
    "temp_12mo = session.query(*sel).filter(Measurement.date.between('2016-08-23', '2017-08-23')).\\\n",
    "    filter(Measurement.station =='USC00519281').all()\n",
    "print(temp_12mo)\n"
   ]
  },
  {
   "cell_type": "markdown",
   "metadata": {},
   "source": [
    "## Graph it"
   ]
  },
  {
   "cell_type": "code",
   "execution_count": 20,
   "metadata": {},
   "outputs": [
    {
     "data": {
      "text/html": [
       "<div>\n",
       "<style scoped>\n",
       "    .dataframe tbody tr th:only-of-type {\n",
       "        vertical-align: middle;\n",
       "    }\n",
       "\n",
       "    .dataframe tbody tr th {\n",
       "        vertical-align: top;\n",
       "    }\n",
       "\n",
       "    .dataframe thead th {\n",
       "        text-align: right;\n",
       "    }\n",
       "</style>\n",
       "<table border=\"1\" class=\"dataframe\">\n",
       "  <thead>\n",
       "    <tr style=\"text-align: right;\">\n",
       "      <th></th>\n",
       "      <th>station</th>\n",
       "      <th>tobs</th>\n",
       "    </tr>\n",
       "  </thead>\n",
       "  <tbody>\n",
       "    <tr>\n",
       "      <th>0</th>\n",
       "      <td>USC00519281</td>\n",
       "      <td>77.0</td>\n",
       "    </tr>\n",
       "    <tr>\n",
       "      <th>1</th>\n",
       "      <td>USC00519281</td>\n",
       "      <td>77.0</td>\n",
       "    </tr>\n",
       "    <tr>\n",
       "      <th>2</th>\n",
       "      <td>USC00519281</td>\n",
       "      <td>80.0</td>\n",
       "    </tr>\n",
       "    <tr>\n",
       "      <th>3</th>\n",
       "      <td>USC00519281</td>\n",
       "      <td>80.0</td>\n",
       "    </tr>\n",
       "    <tr>\n",
       "      <th>4</th>\n",
       "      <td>USC00519281</td>\n",
       "      <td>75.0</td>\n",
       "    </tr>\n",
       "  </tbody>\n",
       "</table>\n",
       "</div>"
      ],
      "text/plain": [
       "       station  tobs\n",
       "0  USC00519281  77.0\n",
       "1  USC00519281  77.0\n",
       "2  USC00519281  80.0\n",
       "3  USC00519281  80.0\n",
       "4  USC00519281  75.0"
      ]
     },
     "execution_count": 20,
     "metadata": {},
     "output_type": "execute_result"
    }
   ],
   "source": [
    "# Save the query results as a Pandas DataFrame\n",
    "tobs_df = pd.DataFrame(temp_12mo, columns =['station', 'tobs'])\n",
    "tobs_df.head()"
   ]
  },
  {
   "cell_type": "code",
   "execution_count": 21,
   "metadata": {},
   "outputs": [],
   "source": [
    "style.use('ggplot')"
   ]
  },
  {
   "cell_type": "code",
   "execution_count": 22,
   "metadata": {},
   "outputs": [
    {
     "data": {
      "image/png": "[encoded data removed]",
      "text/plain": [
       "<Figure size 432x288 with 1 Axes>"
      ]
     },
     "metadata": {},
     "output_type": "display_data"
    },
    {
     "data": {
      "text/plain": [
       "<Figure size 432x288 with 0 Axes>"
      ]
     },
     "metadata": {},
     "output_type": "display_data"
    }
   ],
   "source": [
    "plt.hist(tobs_df['tobs'], bins=12)\n",
    "plt.ylabel('Frequency')\n",
    "blue_patch = mpatches.Patch(color='dodgerblue', label='tobs')\n",
    "plt.legend(handles=[blue_patch])\n",
    "plt.show()\n",
    "plt.savefig(\"temp_frequency\")"
   ]
  },
  {
   "cell_type": "markdown",
   "metadata": {},
   "source": [
    "## Optional Stuff"
   ]
  },
  {
   "cell_type": "code",
   "execution_count": 23,
   "metadata": {},
   "outputs": [
    {
     "name": "stdout",
     "output_type": "stream",
     "text": [
      "[(62.0, 69.57142857142857, 74.0)]\n"
     ]
    }
   ],
   "source": [
    " #This function called `calc_temps` will accept start date and end date in the format '%Y-%m-%d' \n",
    "# and return the minimum, average, and maximum temperatures for that range of dates\n",
    "def calc_temps(start_date, end_date):\n",
    "    \"\"\"TMIN, TAVG, and TMAX for a list of dates.\n",
    "    \n",
    "    Args:\n",
    "        start_date (string): A date string in the format %Y-%m-%d\n",
    "        end_date (string): A date string in the format %Y-%m-%d\n",
    "        \n",
    "    Returns:\n",
    "        TMIN, TAVE, and TMAX\n",
    "    \"\"\"\n",
    "    \n",
    "    return session.query(func.min(Measurement.tobs), func.avg(Measurement.tobs), func.max(Measurement.tobs)).\\\n",
    "        filter(Measurement.date >= start_date).filter(Measurement.date <= end_date).all()\n",
    "\n",
    "# function usage example\n",
    "print(calc_temps('2012-02-28', '2012-03-05'))"
   ]
  },
  {
   "cell_type": "code",
   "execution_count": 24,
   "metadata": {},
   "outputs": [
    {
     "name": "stdout",
     "output_type": "stream",
     "text": [
      "[(61.0, 69.75510204081633, 75.0)]\n"
     ]
    }
   ],
   "source": [
    "# Use your previous function `calc_temps` to calculate the tmin, tavg, and tmax \n",
    "# for your trip using the previous year's data for those same dates.\n",
    "\n",
    "print(calc_temps('2011-02-28','2011-03-05'))"
   ]
  },
  {
   "cell_type": "code",
   "execution_count": 25,
   "metadata": {},
   "outputs": [
    {
     "data": {
      "text/plain": [
       "[(61.0, 69.75510204081633, 75.0)]"
      ]
     },
     "execution_count": 25,
     "metadata": {},
     "output_type": "execute_result"
    }
   ],
   "source": [
    "# Plot the results from your previous query as a bar chart. \n",
    "temps = session.query(func.min(Measurement.tobs), func.avg(Measurement.tobs), func.max(Measurement.tobs)).\\\n",
    "    filter(Measurement.date >='2011-02-28').filter(Measurement.date <= '2011-03-05').all()\n",
    "# Use \"Trip Avg Temp\" as your Title\n",
    "temp_df = pd.DataFrame(temps, columns =['Min', 'Avg', 'Max'])\n",
    "temp_df.head()\n",
    "\n",
    "temps"
   ]
  },
  {
   "cell_type": "code",
   "execution_count": 32,
   "metadata": {},
   "outputs": [
    {
     "data": {
      "image/png": "[encoded data removed]",
      "text/plain": [
       "<Figure size 432x288 with 1 Axes>"
      ]
     },
     "metadata": {},
     "output_type": "display_data"
    },
    {
     "data": {
      "text/plain": [
       "<Figure size 432x288 with 0 Axes>"
      ]
     },
     "metadata": {},
     "output_type": "display_data"
    }
   ],
   "source": [
    "# Use the average temperature for the y value\n",
    "# Use the peak-to-peak (tmax-tmin) value as the y error bar (yerr)\n",
    "x_axis = 1 \n",
    "\n",
    "error = np.array([61, 75])\n",
    "\n",
    "plt.bar(x_axis, temp_df[\"Avg\"], align = \"center\", yerr = temp_df[\"Min\"] - temp_df[\"Max\"])\n",
    "plt.tight_layout()\n",
    "plt.xlim(0, 2, 1)\n",
    "plt.ylim(0, 85)\n",
    "plt.xticks([])\n",
    "plt.title(\"Trip Avg Temp\")\n",
    "plt.show()\n",
    "plt.savefig(\"trip_avg_temp\")"
   ]
  },
  {
   "cell_type": "code",
   "execution_count": 27,
   "metadata": {},
   "outputs": [
    {
     "name": "stdout",
     "output_type": "stream",
     "text": [
      "[('USC00514830', 'WAIKIKI 717.2, HI US', 21.2716, -157.8168, 17.640000000000008), ('USC00517948', 'WAIKIKI 717.2, HI US', 21.2716, -157.8168, None), ('USC00518838', 'WAIKIKI 717.2, HI US', 21.2716, -157.8168, 20.970000000000006), ('USC00511918', 'WAIKIKI 717.2, HI US', 21.2716, -157.8168, 5.669999999999999), ('USC00513117', 'WAIKIKI 717.2, HI US', 21.2716, -157.8168, 12.96000000000001), ('USC00516128', 'WAIKIKI 717.2, HI US', 21.2716, -157.8168, 13.04999999999999), ('USC00519281', 'WAIKIKI 717.2, HI US', 21.2716, -157.8168, 20.07000000000001), ('USC00519397', 'WAIKIKI 717.2, HI US', 21.2716, -157.8168, 12.420000000000003), ('USC00519523', 'WAIKIKI 717.2, HI US', 21.2716, -157.8168, 19.709999999999987)]\n"
     ]
    }
   ],
   "source": [
    "# Calculate the total amount of rainfall per weather station for your trip dates using the previous year's matching dates.\n",
    "# Sort this in descending order by precipitation amount and list the station, name, latitude, longitude, and elevation\n",
    "sel = [Measurement.station, Station.name, Station.latitude, Station.longitude, func.sum(Measurement.prcp)]\n",
    "\n",
    "\n",
    "rainfall = session.query(*sel).filter(Measurement.date.between('2011-02-28', '2011-03-05')).group_by(Measurement.station).\\\n",
    "    order_by(Measurement.prcp).all()\n",
    "\n",
    "print(rainfall)"
   ]
  },
  {
   "cell_type": "code",
   "execution_count": 28,
   "metadata": {},
   "outputs": [
    {
     "data": {
      "text/plain": [
       "[(62.0, 69.15384615384616, 77.0)]"
      ]
     },
     "execution_count": 28,
     "metadata": {},
     "output_type": "execute_result"
    }
   ],
   "source": [
    "# Create a query that will calculate the daily normals \n",
    "# (i.e. the averages for tmin, tmax, and tavg for all historic data matching a specific month and day)\n",
    "\n",
    "def daily_normals(date):\n",
    "    \"\"\"Daily Normals.\n",
    "    \n",
    "    Args:\n",
    "        date (str): A date string in the format '%m-%d'\n",
    "        \n",
    "    Returns:\n",
    "        A list of tuples containing the daily normals, tmin, tavg, and tmax\n",
    "    \n",
    "    \"\"\"\n",
    "    \n",
    "    sel = [func.min(Measurement.tobs), func.avg(Measurement.tobs), func.max(Measurement.tobs)]\n",
    "    return session.query(*sel).filter(func.strftime(\"%m-%d\", Measurement.date) == date).all()\n",
    "    \n",
    "daily_normals(\"01-01\")"
   ]
  },
  {
   "cell_type": "code",
   "execution_count": 29,
   "metadata": {},
   "outputs": [],
   "source": [
    "# calculate the daily normals for your trip\n",
    "# push each tuple of calculations into a list called `normals`\n",
    "normals = []\n",
    "# Set the start and end date of the trip\n",
    "\n",
    "\n",
    "# Use the start and end date to create a range of dates\n",
    "\n",
    "# Stip off the year and save a list of %m-%d strings\n",
    "\n",
    "# Loop through the list of %m-%d strings and calculate the normals for each date"
   ]
  },
  {
   "cell_type": "code",
   "execution_count": 30,
   "metadata": {},
   "outputs": [],
   "source": [
    "# Load the previous query results into a Pandas DataFrame and add the `trip_dates` range as the `date` index"
   ]
  },
  {
   "cell_type": "code",
   "execution_count": 31,
   "metadata": {},
   "outputs": [],
   "source": [
    " # Plot the daily normals as an area plot with `stacked=False`"
   ]
  }
 ],
 "metadata": {
  "kernelspec": {
   "display_name": "Python 3",
   "language": "python",
   "name": "python3"
  },
  "language_info": {
   "codemirror_mode": {
    "name": "ipython",
    "version": 3
   },
   "file_extension": ".py",
   "mimetype": "text/x-python",
   "name": "python",
   "nbconvert_exporter": "python",
   "pygments_lexer": "ipython3",
   "version": "3.7.3"
  }
 },
 "nbformat": 4,
 "nbformat_minor": 2
}
